{
  "nbformat": 4,
  "nbformat_minor": 0,
  "metadata": {
    "colab": {
      "name": "decision_trees_from_scratch.ipynb",
      "provenance": []
    },
    "kernelspec": {
      "name": "python3",
      "display_name": "Python 3"
    }
  },
  "cells": [
    {
      "cell_type": "code",
      "metadata": {
        "colab": {
          "base_uri": "https://localhost:8080/"
        },
        "id": "gqR16zBVyyuR",
        "outputId": "e0ab534e-d4b2-4069-f4c5-20140f0f8d46"
      },
      "source": [
        "import pandas as pd\n",
        "from sklearn.model_selection import train_test_split\n",
        "from sklearn.tree import DecisionTreeClassifier\n",
        "from sklearn.metrics import accuracy_score\n",
        "from sklearn.metrics import confusion_matrix"
      ],
      "execution_count": 3,
      "outputs": [
        {
          "output_type": "stream",
          "name": "stderr",
          "text": [
            "/usr/local/lib/python3.7/dist-packages/statsmodels/tools/_testing.py:19: FutureWarning: pandas.util.testing is deprecated. Use the functions in the public API at pandas.testing instead.\n",
            "  import pandas.util.testing as tm\n"
          ]
        }
      ]
    },
    {
      "cell_type": "code",
      "metadata": {
        "id": "w-u2WkBC0jdp"
      },
      "source": [
        "df = pd.read_csv('car.csv', header=None)\n",
        "df.head()"
      ],
      "execution_count": null,
      "outputs": []
    },
    {
      "cell_type": "code",
      "source": [
        "class Node:\n",
        "    '''\n",
        "    Helper class which implements a single tree node.\n",
        "    '''\n",
        "    def __init__(self, feature=None, threshold=None, data_left=None, data_right=None, gain=None, value=None):\n",
        "        self.feature = feature\n",
        "        self.threshold = threshold\n",
        "        self.data_left = data_left\n",
        "        self.data_right = data_right\n",
        "        self.gain = gain\n",
        "        self.value = value"
      ],
      "metadata": {
        "id": "rwnMTtLoQQnr"
      },
      "execution_count": 5,
      "outputs": []
    },
    {
      "cell_type": "code",
      "source": [
        "class DecisionTree:\n",
        "    '''\n",
        "    Class which implements a decision tree classifier algorithm.\n",
        "    '''\n",
        "    def __init__(self, min_samples_split=2, max_depth=5):\n",
        "        self.min_samples_split = min_samples_split\n",
        "        self.max_depth = max_depth\n",
        "        self.root = None\n",
        "        \n",
        "    @staticmethod\n",
        "    def _entropy(s):\n",
        "        '''\n",
        "        Helper function, calculates entropy from an array of integer values.\n",
        "        \n",
        "        :param s: list\n",
        "        :return: float, entropy value\n",
        "        '''\n",
        "        # Convert to integers to avoid runtime errors\n",
        "        counts = np.bincount(np.array(s, dtype=np.int64))\n",
        "        # Probabilities of each class label\n",
        "        percentages = counts / len(s)\n",
        "\n",
        "        # Caclulate entropy\n",
        "        entropy = 0\n",
        "        for pct in percentages:\n",
        "            if pct > 0:\n",
        "                entropy += pct * np.log2(pct)\n",
        "        return -entropy\n",
        "    \n",
        "    def _information_gain(self, parent, left_child, right_child):\n",
        "        '''\n",
        "        Helper function, calculates information gain from a parent and two child nodes.\n",
        "        \n",
        "        :param parent: list, the parent node\n",
        "        :param left_child: list, left child of a parent\n",
        "        :param right_child: list, right child of a parent\n",
        "        :return: float, information gain\n",
        "        '''\n",
        "        num_left = len(left_child) / len(parent)\n",
        "        num_right = len(right_child) / len(parent)\n",
        "        \n",
        "        # One-liner which implements the previously discussed formula\n",
        "        return self._entropy(parent) - (num_left * self._entropy(left_child) + num_right * self._entropy(right_child))\n",
        "    \n",
        "    def _best_split(self, X, y):\n",
        "        '''\n",
        "        Helper function, calculates the best split for given features and target\n",
        "        \n",
        "        :param X: np.array, features\n",
        "        :param y: np.array or list, target\n",
        "        :return: dict\n",
        "        '''\n",
        "        best_split = {}\n",
        "        best_info_gain = -1\n",
        "        n_rows, n_cols = X.shape\n",
        "        \n",
        "        # For every dataset feature\n",
        "        for f_idx in range(n_cols):\n",
        "            X_curr = X[:, f_idx]\n",
        "            # For every unique value of that feature\n",
        "            for threshold in np.unique(X_curr):\n",
        "                # Construct a dataset and split it to the left and right parts\n",
        "                # Left part includes records lower or equal to the threshold\n",
        "                # Right part includes records higher than the threshold\n",
        "                df = np.concatenate((X, y.reshape(1, -1).T), axis=1)\n",
        "                df_left = np.array([row for row in df if row[f_idx] <= threshold])\n",
        "                df_right = np.array([row for row in df if row[f_idx] > threshold])\n",
        "\n",
        "                # Do the calculation only if there's data in both subsets\n",
        "                if len(df_left) > 0 and len(df_right) > 0:\n",
        "                    # Obtain the value of the target variable for subsets\n",
        "                    y = df[:, -1]\n",
        "                    y_left = df_left[:, -1]\n",
        "                    y_right = df_right[:, -1]\n",
        "\n",
        "                    # Caclulate the information gain and save the split parameters\n",
        "                    # if the current split if better then the previous best\n",
        "                    gain = self._information_gain(y, y_left, y_right)\n",
        "                    if gain > best_info_gain:\n",
        "                        best_split = {\n",
        "                            'feature_index': f_idx,\n",
        "                            'threshold': threshold,\n",
        "                            'df_left': df_left,\n",
        "                            'df_right': df_right,\n",
        "                            'gain': gain\n",
        "                        }\n",
        "                        best_info_gain = gain\n",
        "        return best_split\n",
        "    \n",
        "    def _build(self, X, y, depth=0):\n",
        "        '''\n",
        "        Helper recursive function, used to build a decision tree from the input data.\n",
        "        \n",
        "        :param X: np.array, features\n",
        "        :param y: np.array or list, target\n",
        "        :param depth: current depth of a tree, used as a stopping criteria\n",
        "        :return: Node\n",
        "        '''\n",
        "        n_rows, n_cols = X.shape\n",
        "        \n",
        "        # Check to see if a node should be leaf node\n",
        "        if n_rows >= self.min_samples_split and depth <= self.max_depth:\n",
        "            # Get the best split\n",
        "            best = self._best_split(X, y)\n",
        "            # If the split isn't pure\n",
        "            if best['gain'] > 0:\n",
        "                # Build a tree on the left\n",
        "                left = self._build(\n",
        "                    X=best['df_left'][:, :-1], \n",
        "                    y=best['df_left'][:, -1], \n",
        "                    depth=depth + 1\n",
        "                )\n",
        "                right = self._build(\n",
        "                    X=best['df_right'][:, :-1], \n",
        "                    y=best['df_right'][:, -1], \n",
        "                    depth=depth + 1\n",
        "                )\n",
        "                return Node(\n",
        "                    feature=best['feature_index'], \n",
        "                    threshold=best['threshold'], \n",
        "                    data_left=left, \n",
        "                    data_right=right, \n",
        "                    gain=best['gain']\n",
        "                )\n",
        "        # Leaf node - value is the most common target value \n",
        "        return Node(\n",
        "            value=Counter(y).most_common(1)[0][0]\n",
        "        )\n",
        "    \n",
        "    def fit(self, X, y):\n",
        "        '''\n",
        "        Function used to train a decision tree classifier model.\n",
        "        \n",
        "        :param X: np.array, features\n",
        "        :param y: np.array or list, target\n",
        "        :return: None\n",
        "        '''\n",
        "        # Call a recursive function to build the tree\n",
        "        self.root = self._build(X, y)\n",
        "        \n",
        "    def _predict(self, x, tree):\n",
        "        '''\n",
        "        Helper recursive function, used to predict a single instance (tree traversal).\n",
        "        \n",
        "        :param x: single observation\n",
        "        :param tree: built tree\n",
        "        :return: float, predicted class\n",
        "        '''\n",
        "        # Leaf node\n",
        "        if tree.value != None:\n",
        "            return tree.value\n",
        "        feature_value = x[tree.feature]\n",
        "        \n",
        "        # Go to the left\n",
        "        if feature_value <= tree.threshold:\n",
        "            return self._predict(x=x, tree=tree.data_left)\n",
        "        \n",
        "        # Go to the right\n",
        "        if feature_value > tree.threshold:\n",
        "            return self._predict(x=x, tree=tree.data_right)\n",
        "        \n",
        "    def predict(self, X):\n",
        "        '''\n",
        "        Function used to classify new instances.\n",
        "        \n",
        "        :param X: np.array, features\n",
        "        :return: np.array, predicted classes\n",
        "        '''\n",
        "        # Call the _predict() function for every observation\n",
        "        return [self._predict(x, self.root) for x in X]"
      ],
      "metadata": {
        "id": "ygyECvwNQSad"
      },
      "execution_count": 6,
      "outputs": []
    },
    {
      "cell_type": "code",
      "metadata": {
        "id": "02Cdvec52N5u"
      },
      "source": [
        "colnames = ['Buying-Price', 'Maintenance-Price', 'Doors', 'Capacity', 'Luggage-Boot', 'Safety', 'Class']\n",
        "df.columns = colnames"
      ],
      "execution_count": 7,
      "outputs": []
    },
    {
      "cell_type": "code",
      "metadata": {
        "id": "pFNBYsg-2qgw"
      },
      "source": [
        "df.head()"
      ],
      "execution_count": null,
      "outputs": []
    },
    {
      "cell_type": "code",
      "source": [
        "from sklearn.preprocessing import OneHotEncoder\n",
        "\n",
        "OneHotEncoder().fit_transform(df)"
      ],
      "metadata": {
        "colab": {
          "base_uri": "https://localhost:8080/"
        },
        "id": "EMh1gpuEco1O",
        "outputId": "b0a747bf-9274-4975-da00-93f7989c27e3"
      },
      "execution_count": 16,
      "outputs": [
        {
          "output_type": "execute_result",
          "data": {
            "text/plain": [
              "<1728x25 sparse matrix of type '<class 'numpy.float64'>'\n",
              "\twith 12096 stored elements in Compressed Sparse Row format>"
            ]
          },
          "metadata": {},
          "execution_count": 16
        }
      ]
    },
    {
      "cell_type": "code",
      "metadata": {
        "id": "cvZRRB9DFEbp"
      },
      "source": [
        "X = df.drop(['Class'], axis=1)\n",
        "y = df['Class']"
      ],
      "execution_count": 17,
      "outputs": []
    },
    {
      "cell_type": "code",
      "metadata": {
        "id": "_7e4kdNzHDOV"
      },
      "source": [
        "from sklearn.model_selection import train_test_split\n",
        "\n",
        "X_train, X_test, y_train, y_test = train_test_split(X, y, test_size = 0.33,\n",
        "                                                    random_state = 42)"
      ],
      "execution_count": 18,
      "outputs": []
    },
    {
      "cell_type": "code",
      "source": [
        "model = DecisionTree()\n",
        "model.fit(X_train, y_train)\n",
        "preds = model.predict(X_test)"
      ],
      "metadata": {
        "id": "yhajTMitQTHb"
      },
      "execution_count": null,
      "outputs": []
    },
    {
      "cell_type": "code",
      "source": [
        "from sklearn.tree import DecisionTreeClassifier\n",
        "\n",
        "sk_model = DecisionTreeClassifier()\n",
        "sk_model.fit(X_train, y_train)\n",
        "sk_preds = sk_model.predict(X_test)\n",
        "\n",
        "accuracy_score(y_test, sk_preds)"
      ],
      "metadata": {
        "id": "OTvBwViego2Z"
      },
      "execution_count": null,
      "outputs": []
    }
  ]
}
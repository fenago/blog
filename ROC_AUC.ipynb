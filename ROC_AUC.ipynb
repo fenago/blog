{
  "nbformat": 4,
  "nbformat_minor": 0,
  "metadata": {
    "colab": {
      "name": "ROC_AUC.ipynb",
      "provenance": []
    },
    "kernelspec": {
      "name": "python3",
      "display_name": "Python 3"
    },
    "language_info": {
      "name": "python"
    }
  },
  "cells": [
    {
      "cell_type": "code",
      "metadata": {
        "id": "mD479eBdIldk"
      },
      "source": [
        "import numpy as np\n",
        "import pandas as pd\n",
        "from sklearn.model_selection import train_test_split\n",
        "import matplotlib.pyplot as plt\n",
        "from matplotlib import rcParams\n",
        "rcParams['axes.spines.top'] = False\n",
        "rcParams['axes.spines.right'] = False"
      ],
      "execution_count": null,
      "outputs": []
    },
    {
      "cell_type": "code",
      "metadata": {
        "colab": {
          "base_uri": "https://localhost:8080/",
          "height": 235
        },
        "id": "0XWL7nqPIoDg",
        "outputId": "8769a93a-94dd-430c-9c8c-1c74d61882a3"
      },
      "source": [
        "#load the dataset into a pandas DataFrame\n",
        "df  = pd.read_csv(\"cardio_train.csv\", delimiter=\";\", index_col=0)\n",
        "df.head()"
      ],
      "execution_count": null,
      "outputs": [
        {
          "output_type": "execute_result",
          "data": {
            "text/html": [
              "<div>\n",
              "<style scoped>\n",
              "    .dataframe tbody tr th:only-of-type {\n",
              "        vertical-align: middle;\n",
              "    }\n",
              "\n",
              "    .dataframe tbody tr th {\n",
              "        vertical-align: top;\n",
              "    }\n",
              "\n",
              "    .dataframe thead th {\n",
              "        text-align: right;\n",
              "    }\n",
              "</style>\n",
              "<table border=\"1\" class=\"dataframe\">\n",
              "  <thead>\n",
              "    <tr style=\"text-align: right;\">\n",
              "      <th></th>\n",
              "      <th>age</th>\n",
              "      <th>gender</th>\n",
              "      <th>height</th>\n",
              "      <th>weight</th>\n",
              "      <th>ap_hi</th>\n",
              "      <th>ap_lo</th>\n",
              "      <th>cholesterol</th>\n",
              "      <th>gluc</th>\n",
              "      <th>smoke</th>\n",
              "      <th>alco</th>\n",
              "      <th>active</th>\n",
              "      <th>cardio</th>\n",
              "    </tr>\n",
              "    <tr>\n",
              "      <th>id</th>\n",
              "      <th></th>\n",
              "      <th></th>\n",
              "      <th></th>\n",
              "      <th></th>\n",
              "      <th></th>\n",
              "      <th></th>\n",
              "      <th></th>\n",
              "      <th></th>\n",
              "      <th></th>\n",
              "      <th></th>\n",
              "      <th></th>\n",
              "      <th></th>\n",
              "    </tr>\n",
              "  </thead>\n",
              "  <tbody>\n",
              "    <tr>\n",
              "      <th>0</th>\n",
              "      <td>18393</td>\n",
              "      <td>2</td>\n",
              "      <td>168</td>\n",
              "      <td>62.0</td>\n",
              "      <td>110</td>\n",
              "      <td>80</td>\n",
              "      <td>1</td>\n",
              "      <td>1</td>\n",
              "      <td>0</td>\n",
              "      <td>0</td>\n",
              "      <td>1</td>\n",
              "      <td>0</td>\n",
              "    </tr>\n",
              "    <tr>\n",
              "      <th>1</th>\n",
              "      <td>20228</td>\n",
              "      <td>1</td>\n",
              "      <td>156</td>\n",
              "      <td>85.0</td>\n",
              "      <td>140</td>\n",
              "      <td>90</td>\n",
              "      <td>3</td>\n",
              "      <td>1</td>\n",
              "      <td>0</td>\n",
              "      <td>0</td>\n",
              "      <td>1</td>\n",
              "      <td>1</td>\n",
              "    </tr>\n",
              "    <tr>\n",
              "      <th>2</th>\n",
              "      <td>18857</td>\n",
              "      <td>1</td>\n",
              "      <td>165</td>\n",
              "      <td>64.0</td>\n",
              "      <td>130</td>\n",
              "      <td>70</td>\n",
              "      <td>3</td>\n",
              "      <td>1</td>\n",
              "      <td>0</td>\n",
              "      <td>0</td>\n",
              "      <td>0</td>\n",
              "      <td>1</td>\n",
              "    </tr>\n",
              "    <tr>\n",
              "      <th>3</th>\n",
              "      <td>17623</td>\n",
              "      <td>2</td>\n",
              "      <td>169</td>\n",
              "      <td>82.0</td>\n",
              "      <td>150</td>\n",
              "      <td>100</td>\n",
              "      <td>1</td>\n",
              "      <td>1</td>\n",
              "      <td>0</td>\n",
              "      <td>0</td>\n",
              "      <td>1</td>\n",
              "      <td>1</td>\n",
              "    </tr>\n",
              "    <tr>\n",
              "      <th>4</th>\n",
              "      <td>17474</td>\n",
              "      <td>1</td>\n",
              "      <td>156</td>\n",
              "      <td>56.0</td>\n",
              "      <td>100</td>\n",
              "      <td>60</td>\n",
              "      <td>1</td>\n",
              "      <td>1</td>\n",
              "      <td>0</td>\n",
              "      <td>0</td>\n",
              "      <td>0</td>\n",
              "      <td>0</td>\n",
              "    </tr>\n",
              "  </tbody>\n",
              "</table>\n",
              "</div>"
            ],
            "text/plain": [
              "      age  gender  height  weight  ap_hi  ...  gluc  smoke  alco  active  cardio\n",
              "id                                        ...                                   \n",
              "0   18393       2     168    62.0    110  ...     1      0     0       1       0\n",
              "1   20228       1     156    85.0    140  ...     1      0     0       1       1\n",
              "2   18857       1     165    64.0    130  ...     1      0     0       0       1\n",
              "3   17623       2     169    82.0    150  ...     1      0     0       1       1\n",
              "4   17474       1     156    56.0    100  ...     1      0     0       0       0\n",
              "\n",
              "[5 rows x 12 columns]"
            ]
          },
          "metadata": {
            "tags": []
          },
          "execution_count": 2
        }
      ]
    },
    {
      "cell_type": "code",
      "metadata": {
        "colab": {
          "base_uri": "https://localhost:8080/"
        },
        "id": "L9BPRQXrIxaw",
        "outputId": "07dd71ec-b8db-438e-f134-c2ba90047d4b"
      },
      "source": [
        "#get the size of the dataset\n",
        "df.shape"
      ],
      "execution_count": null,
      "outputs": [
        {
          "output_type": "execute_result",
          "data": {
            "text/plain": [
              "(70000, 12)"
            ]
          },
          "metadata": {
            "tags": []
          },
          "execution_count": 3
        }
      ]
    },
    {
      "cell_type": "code",
      "metadata": {
        "colab": {
          "base_uri": "https://localhost:8080/"
        },
        "id": "vmpYANCRIzUI",
        "outputId": "4377e0a4-53d6-4686-c091-6c6fc0802ff0"
      },
      "source": [
        "#reduce the size of the dataset to only 1000 samples\n",
        "df = df.iloc[0:1000, :]\n",
        "df.shape"
      ],
      "execution_count": null,
      "outputs": [
        {
          "output_type": "execute_result",
          "data": {
            "text/plain": [
              "(1000, 12)"
            ]
          },
          "metadata": {
            "tags": []
          },
          "execution_count": 5
        }
      ]
    },
    {
      "cell_type": "code",
      "metadata": {
        "id": "UmqHMpGLI2H3"
      },
      "source": [
        "#convert the age given in days to years\n",
        "df['age'] = df['age']//365"
      ],
      "execution_count": null,
      "outputs": []
    },
    {
      "cell_type": "code",
      "metadata": {
        "id": "5ExMZM-vI6Qm"
      },
      "source": [
        "#separate the dataset into target variable and features\n",
        "y = df['cardio']\n",
        "X = df.drop(columns=['cardio'])"
      ],
      "execution_count": null,
      "outputs": []
    },
    {
      "cell_type": "code",
      "metadata": {
        "id": "oMM13MFOI8VX"
      },
      "source": [
        "#splitting the dataset into train and test samples\n",
        "X_train, X_test, y_train, y_test = train_test_split(X, y, test_size=0.2, random_state=42)"
      ],
      "execution_count": null,
      "outputs": []
    },
    {
      "cell_type": "code",
      "metadata": {
        "colab": {
          "base_uri": "https://localhost:8080/"
        },
        "id": "tUvD-BabJejC",
        "outputId": "70bbabe1-23c7-46e0-9b17-63b06c59ae4f"
      },
      "source": [
        "from sklearn.linear_model import LogisticRegression\n",
        "from sklearn.neighbors import KNeighborsClassifier\n",
        "from sklearn.tree import DecisionTreeClassifier\n",
        "from sklearn.ensemble import RandomForestClassifier\n",
        "from sklearn.svm import SVC\n",
        "\n",
        "lr = LogisticRegression().fit(X_train, y_train)\n",
        "lr_probabilities = lr.predict_proba(X_test)[:, 1]\n",
        "\n",
        "knn = KNeighborsClassifier().fit(X_train, y_train)\n",
        "knn_probabilities = knn.predict_proba(X_test)[:, 1]\n",
        "\n",
        "dt = DecisionTreeClassifier().fit(X_train, y_train)\n",
        "dt_probabilities = dt.predict_proba(X_test)[:, 1]\n",
        "\n",
        "rf = RandomForestClassifier().fit(X_train, y_train)\n",
        "rf_probabilities = rf.predict_proba(X_test)[:, 1]\n",
        "\n",
        "svc = SVC(probability=True).fit(X_train, y_train)\n",
        "svc_probabilities = svc.predict_proba(X_test)[:, 1]\n"
      ],
      "execution_count": null,
      "outputs": [
        {
          "output_type": "stream",
          "text": [
            "/usr/local/lib/python3.7/dist-packages/sklearn/linear_model/_logistic.py:940: ConvergenceWarning: lbfgs failed to converge (status=1):\n",
            "STOP: TOTAL NO. of ITERATIONS REACHED LIMIT.\n",
            "\n",
            "Increase the number of iterations (max_iter) or scale the data as shown in:\n",
            "    https://scikit-learn.org/stable/modules/preprocessing.html\n",
            "Please also refer to the documentation for alternative solver options:\n",
            "    https://scikit-learn.org/stable/modules/linear_model.html#logistic-regression\n",
            "  extra_warning_msg=_LOGISTIC_SOLVER_CONVERGENCE_MSG)\n"
          ],
          "name": "stderr"
        }
      ]
    },
    {
      "cell_type": "code",
      "metadata": {
        "id": "_ZHjX_nALkzE"
      },
      "source": [
        "from sklearn.metrics import roc_auc_score, roc_curve\n",
        "\n",
        "#AUC score and ROC curve for Logistic Regression\n",
        "lr_auc = roc_auc_score(y_test, lr_probabilities)\n",
        "lr_fpr, lr_tpr, lr_thresholds = roc_curve(y_test, lr_probabilities)\n",
        "\n",
        "#AUC score and ROC curve for K-Nearest Neighbors\n",
        "knn_auc = roc_auc_score(y_test, knn_probabilities)\n",
        "knn_fpr, knn_tpr, knn_thresholds = roc_curve(y_test, knn_probabilities)\n",
        "\n",
        "#AUC score and ROC curve for the Decision Tree Classifier\n",
        "dt_auc = roc_auc_score(y_test, dt_probabilities)\n",
        "dt_fpr, dt_tpr, dt_thresholds = roc_curve(y_test, dt_probabilities)\n",
        "\n",
        "#AUC score and ROC curve for the Random Forest Classifier\n",
        "rf_auc = roc_auc_score(y_test, rf_probabilities)\n",
        "rf_fpr, rf_tpr, rf_thresholds = roc_curve(y_test, rf_probabilities)\n",
        "\n",
        "#AUC score and ROC curve for The SVM Classifier\n",
        "svc_auc = roc_auc_score(y_test, svc_probabilities)\n",
        "svc_fpr, svc_tpr, svc_thresholds = roc_curve(y_test, svc_probabilities)"
      ],
      "execution_count": null,
      "outputs": []
    },
    {
      "cell_type": "code",
      "metadata": {
        "colab": {
          "base_uri": "https://localhost:8080/",
          "height": 412
        },
        "id": "Jix3_EWTNR7L",
        "outputId": "533e23e1-1417-493a-ab4f-edd63fdab133"
      },
      "source": [
        "#plots the ROC curves\n",
        "plt.figure(figsize=(10, 6))\n",
        "\n",
        "plt.plot(lr_fpr, lr_tpr, label=f\"AUC - Logistic Regression:  {lr_auc}\")\n",
        "plt.plot(knn_fpr, knn_tpr, label=f\"AUC - KNN:  {knn_auc}\")\n",
        "plt.plot(dt_fpr, dt_tpr, label=f\"AUC - Decision Trees: {dt_auc}\")\n",
        "plt.plot(rf_fpr, rf_tpr, label=f\"AUC - Random Forests: {rf_auc}\")\n",
        "plt.plot(svc_fpr, svc_tpr, label=f\"AUC - SVM Classifier: {svc_auc}\")\n",
        "\n",
        "plt.plot([0, 1], [0, 1], color='blue', linestyle='--', label='Baseline') #plot the baseline model, AUC of 0.5\n",
        "\n",
        "plt.xlabel('FPR (False Positive Rate)', size=14)\n",
        "plt.ylabel('TPR (True Positive Rate)', size=14)\n",
        "plt.title('ROC Curve', size=18)\n",
        "plt.legend()\n",
        "\n",
        "plt.show()"
      ],
      "execution_count": null,
      "outputs": [
        {
          "output_type": "display_data",
          "data": {
            "image/png": "[encoded data removed]",
            "text/plain": [
              "<Figure size 720x432 with 1 Axes>"
            ]
          },
          "metadata": {
            "tags": [],
            "needs_background": "light"
          }
        }
      ]
    }
  ]
}
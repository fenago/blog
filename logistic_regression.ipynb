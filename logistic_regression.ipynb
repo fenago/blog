{
  "nbformat": 4,
  "nbformat_minor": 0,
  "metadata": {
    "colab": {
      "name": "logistic_regression.ipynb",
      "provenance": [],
      "collapsed_sections": []
    },
    "kernelspec": {
      "name": "python3",
      "display_name": "Python 3"
    },
    "language_info": {
      "name": "python"
    }
  },
  "cells": [
    {
      "cell_type": "code",
      "metadata": {
        "id": "HDIO8JkUfO5D"
      },
      "source": [
        "import numpy as np\n",
        "import pandas as pd\n",
        "from sklearn.model_selection import train_test_split"
      ],
      "execution_count": null,
      "outputs": []
    },
    {
      "cell_type": "code",
      "metadata": {
        "colab": {
          "base_uri": "https://localhost:8080/",
          "height": 235
        },
        "id": "qe6ZpF6Bf35J",
        "outputId": "123336d4-737c-4505-cbba-bdff43716ad0"
      },
      "source": [
        "#load the dataset into a pandas DataFrame\n",
        "df  = pd.read_csv(\"cardio_train.csv\", delimiter=\";\", index_col=0)\n",
        "df.head()"
      ],
      "execution_count": null,
      "outputs": [
        {
          "output_type": "execute_result",
          "data": {
            "text/html": [
              "<div>\n",
              "<style scoped>\n",
              "    .dataframe tbody tr th:only-of-type {\n",
              "        vertical-align: middle;\n",
              "    }\n",
              "\n",
              "    .dataframe tbody tr th {\n",
              "        vertical-align: top;\n",
              "    }\n",
              "\n",
              "    .dataframe thead th {\n",
              "        text-align: right;\n",
              "    }\n",
              "</style>\n",
              "<table border=\"1\" class=\"dataframe\">\n",
              "  <thead>\n",
              "    <tr style=\"text-align: right;\">\n",
              "      <th></th>\n",
              "      <th>age</th>\n",
              "      <th>gender</th>\n",
              "      <th>height</th>\n",
              "      <th>weight</th>\n",
              "      <th>ap_hi</th>\n",
              "      <th>ap_lo</th>\n",
              "      <th>cholesterol</th>\n",
              "      <th>gluc</th>\n",
              "      <th>smoke</th>\n",
              "      <th>alco</th>\n",
              "      <th>active</th>\n",
              "      <th>cardio</th>\n",
              "    </tr>\n",
              "    <tr>\n",
              "      <th>id</th>\n",
              "      <th></th>\n",
              "      <th></th>\n",
              "      <th></th>\n",
              "      <th></th>\n",
              "      <th></th>\n",
              "      <th></th>\n",
              "      <th></th>\n",
              "      <th></th>\n",
              "      <th></th>\n",
              "      <th></th>\n",
              "      <th></th>\n",
              "      <th></th>\n",
              "    </tr>\n",
              "  </thead>\n",
              "  <tbody>\n",
              "    <tr>\n",
              "      <th>0</th>\n",
              "      <td>18393</td>\n",
              "      <td>2</td>\n",
              "      <td>168</td>\n",
              "      <td>62.0</td>\n",
              "      <td>110</td>\n",
              "      <td>80</td>\n",
              "      <td>1</td>\n",
              "      <td>1</td>\n",
              "      <td>0</td>\n",
              "      <td>0</td>\n",
              "      <td>1</td>\n",
              "      <td>0</td>\n",
              "    </tr>\n",
              "    <tr>\n",
              "      <th>1</th>\n",
              "      <td>20228</td>\n",
              "      <td>1</td>\n",
              "      <td>156</td>\n",
              "      <td>85.0</td>\n",
              "      <td>140</td>\n",
              "      <td>90</td>\n",
              "      <td>3</td>\n",
              "      <td>1</td>\n",
              "      <td>0</td>\n",
              "      <td>0</td>\n",
              "      <td>1</td>\n",
              "      <td>1</td>\n",
              "    </tr>\n",
              "    <tr>\n",
              "      <th>2</th>\n",
              "      <td>18857</td>\n",
              "      <td>1</td>\n",
              "      <td>165</td>\n",
              "      <td>64.0</td>\n",
              "      <td>130</td>\n",
              "      <td>70</td>\n",
              "      <td>3</td>\n",
              "      <td>1</td>\n",
              "      <td>0</td>\n",
              "      <td>0</td>\n",
              "      <td>0</td>\n",
              "      <td>1</td>\n",
              "    </tr>\n",
              "    <tr>\n",
              "      <th>3</th>\n",
              "      <td>17623</td>\n",
              "      <td>2</td>\n",
              "      <td>169</td>\n",
              "      <td>82.0</td>\n",
              "      <td>150</td>\n",
              "      <td>100</td>\n",
              "      <td>1</td>\n",
              "      <td>1</td>\n",
              "      <td>0</td>\n",
              "      <td>0</td>\n",
              "      <td>1</td>\n",
              "      <td>1</td>\n",
              "    </tr>\n",
              "    <tr>\n",
              "      <th>4</th>\n",
              "      <td>17474</td>\n",
              "      <td>1</td>\n",
              "      <td>156</td>\n",
              "      <td>56.0</td>\n",
              "      <td>100</td>\n",
              "      <td>60</td>\n",
              "      <td>1</td>\n",
              "      <td>1</td>\n",
              "      <td>0</td>\n",
              "      <td>0</td>\n",
              "      <td>0</td>\n",
              "      <td>0</td>\n",
              "    </tr>\n",
              "  </tbody>\n",
              "</table>\n",
              "</div>"
            ],
            "text/plain": [
              "      age  gender  height  weight  ap_hi  ...  gluc  smoke  alco  active  cardio\n",
              "id                                        ...                                   \n",
              "0   18393       2     168    62.0    110  ...     1      0     0       1       0\n",
              "1   20228       1     156    85.0    140  ...     1      0     0       1       1\n",
              "2   18857       1     165    64.0    130  ...     1      0     0       0       1\n",
              "3   17623       2     169    82.0    150  ...     1      0     0       1       1\n",
              "4   17474       1     156    56.0    100  ...     1      0     0       0       0\n",
              "\n",
              "[5 rows x 12 columns]"
            ]
          },
          "metadata": {
            "tags": []
          },
          "execution_count": 170
        }
      ]
    },
    {
      "cell_type": "code",
      "metadata": {
        "colab": {
          "base_uri": "https://localhost:8080/"
        },
        "id": "DAAhTFZd-MyC",
        "outputId": "34d42569-44a2-47f9-88e3-d793e6e8334c"
      },
      "source": [
        "#get the size of the dataset\n",
        "df.shape"
      ],
      "execution_count": null,
      "outputs": [
        {
          "output_type": "execute_result",
          "data": {
            "text/plain": [
              "(70000, 12)"
            ]
          },
          "metadata": {
            "tags": []
          },
          "execution_count": 171
        }
      ]
    },
    {
      "cell_type": "code",
      "metadata": {
        "colab": {
          "base_uri": "https://localhost:8080/"
        },
        "id": "N0w4Ery9tYv0",
        "outputId": "99af9842-c2e9-4288-cdad-974a05da260d"
      },
      "source": [
        "#reduce the size of the dataset to only 1000 samples\n",
        "df = df.iloc[0:1000, :]\n",
        "df.shape"
      ],
      "execution_count": null,
      "outputs": [
        {
          "output_type": "execute_result",
          "data": {
            "text/plain": [
              "(1000, 12)"
            ]
          },
          "metadata": {
            "tags": []
          },
          "execution_count": 172
        }
      ]
    },
    {
      "cell_type": "code",
      "metadata": {
        "colab": {
          "base_uri": "https://localhost:8080/"
        },
        "id": "5RP1IprTgaoD",
        "outputId": "1eebb71f-a116-4843-f7e0-d57d512711ff"
      },
      "source": [
        "#convert the age given in days to years\n",
        "df['age'] = df['age']//365\n",
        "df['age']"
      ],
      "execution_count": null,
      "outputs": [
        {
          "output_type": "execute_result",
          "data": {
            "text/plain": [
              "id\n",
              "0       50\n",
              "1       55\n",
              "2       51\n",
              "3       48\n",
              "4       47\n",
              "        ..\n",
              "1381    53\n",
              "1383    51\n",
              "1385    51\n",
              "1386    47\n",
              "1387    55\n",
              "Name: age, Length: 1000, dtype: int64"
            ]
          },
          "metadata": {
            "tags": []
          },
          "execution_count": 173
        }
      ]
    },
    {
      "cell_type": "code",
      "metadata": {
        "colab": {
          "base_uri": "https://localhost:8080/",
          "height": 317
        },
        "id": "cAtj5BS9hP0M",
        "outputId": "5154a190-8323-4371-8099-e14fc1fce679"
      },
      "source": [
        "#explore the dataset\n",
        "df.describe()"
      ],
      "execution_count": null,
      "outputs": [
        {
          "output_type": "execute_result",
          "data": {
            "text/html": [
              "<div>\n",
              "<style scoped>\n",
              "    .dataframe tbody tr th:only-of-type {\n",
              "        vertical-align: middle;\n",
              "    }\n",
              "\n",
              "    .dataframe tbody tr th {\n",
              "        vertical-align: top;\n",
              "    }\n",
              "\n",
              "    .dataframe thead th {\n",
              "        text-align: right;\n",
              "    }\n",
              "</style>\n",
              "<table border=\"1\" class=\"dataframe\">\n",
              "  <thead>\n",
              "    <tr style=\"text-align: right;\">\n",
              "      <th></th>\n",
              "      <th>age</th>\n",
              "      <th>gender</th>\n",
              "      <th>height</th>\n",
              "      <th>weight</th>\n",
              "      <th>ap_hi</th>\n",
              "      <th>ap_lo</th>\n",
              "      <th>cholesterol</th>\n",
              "      <th>gluc</th>\n",
              "      <th>smoke</th>\n",
              "      <th>alco</th>\n",
              "      <th>active</th>\n",
              "      <th>cardio</th>\n",
              "    </tr>\n",
              "  </thead>\n",
              "  <tbody>\n",
              "    <tr>\n",
              "      <th>count</th>\n",
              "      <td>1000.000000</td>\n",
              "      <td>1000.000000</td>\n",
              "      <td>1000.000000</td>\n",
              "      <td>1000.000000</td>\n",
              "      <td>1000.000000</td>\n",
              "      <td>1000.000000</td>\n",
              "      <td>1000.000000</td>\n",
              "      <td>1000.000000</td>\n",
              "      <td>1000.000000</td>\n",
              "      <td>1000.00000</td>\n",
              "      <td>1000.000000</td>\n",
              "      <td>1000.000000</td>\n",
              "    </tr>\n",
              "    <tr>\n",
              "      <th>mean</th>\n",
              "      <td>52.721000</td>\n",
              "      <td>1.359000</td>\n",
              "      <td>164.102000</td>\n",
              "      <td>74.734300</td>\n",
              "      <td>127.463000</td>\n",
              "      <td>92.655000</td>\n",
              "      <td>1.393000</td>\n",
              "      <td>1.241000</td>\n",
              "      <td>0.095000</td>\n",
              "      <td>0.04600</td>\n",
              "      <td>0.778000</td>\n",
              "      <td>0.507000</td>\n",
              "    </tr>\n",
              "    <tr>\n",
              "      <th>std</th>\n",
              "      <td>6.926408</td>\n",
              "      <td>0.479947</td>\n",
              "      <td>8.363704</td>\n",
              "      <td>15.259966</td>\n",
              "      <td>18.106918</td>\n",
              "      <td>102.072635</td>\n",
              "      <td>0.697881</td>\n",
              "      <td>0.589293</td>\n",
              "      <td>0.293362</td>\n",
              "      <td>0.20959</td>\n",
              "      <td>0.415799</td>\n",
              "      <td>0.500201</td>\n",
              "    </tr>\n",
              "    <tr>\n",
              "      <th>min</th>\n",
              "      <td>39.000000</td>\n",
              "      <td>1.000000</td>\n",
              "      <td>76.000000</td>\n",
              "      <td>41.000000</td>\n",
              "      <td>11.000000</td>\n",
              "      <td>30.000000</td>\n",
              "      <td>1.000000</td>\n",
              "      <td>1.000000</td>\n",
              "      <td>0.000000</td>\n",
              "      <td>0.00000</td>\n",
              "      <td>0.000000</td>\n",
              "      <td>0.000000</td>\n",
              "    </tr>\n",
              "    <tr>\n",
              "      <th>25%</th>\n",
              "      <td>47.000000</td>\n",
              "      <td>1.000000</td>\n",
              "      <td>159.000000</td>\n",
              "      <td>65.000000</td>\n",
              "      <td>120.000000</td>\n",
              "      <td>80.000000</td>\n",
              "      <td>1.000000</td>\n",
              "      <td>1.000000</td>\n",
              "      <td>0.000000</td>\n",
              "      <td>0.00000</td>\n",
              "      <td>1.000000</td>\n",
              "      <td>0.000000</td>\n",
              "    </tr>\n",
              "    <tr>\n",
              "      <th>50%</th>\n",
              "      <td>53.000000</td>\n",
              "      <td>1.000000</td>\n",
              "      <td>164.000000</td>\n",
              "      <td>72.000000</td>\n",
              "      <td>120.000000</td>\n",
              "      <td>80.000000</td>\n",
              "      <td>1.000000</td>\n",
              "      <td>1.000000</td>\n",
              "      <td>0.000000</td>\n",
              "      <td>0.00000</td>\n",
              "      <td>1.000000</td>\n",
              "      <td>1.000000</td>\n",
              "    </tr>\n",
              "    <tr>\n",
              "      <th>75%</th>\n",
              "      <td>58.000000</td>\n",
              "      <td>2.000000</td>\n",
              "      <td>170.000000</td>\n",
              "      <td>84.000000</td>\n",
              "      <td>140.000000</td>\n",
              "      <td>90.000000</td>\n",
              "      <td>2.000000</td>\n",
              "      <td>1.000000</td>\n",
              "      <td>0.000000</td>\n",
              "      <td>0.00000</td>\n",
              "      <td>1.000000</td>\n",
              "      <td>1.000000</td>\n",
              "    </tr>\n",
              "    <tr>\n",
              "      <th>max</th>\n",
              "      <td>64.000000</td>\n",
              "      <td>2.000000</td>\n",
              "      <td>188.000000</td>\n",
              "      <td>200.000000</td>\n",
              "      <td>200.000000</td>\n",
              "      <td>1100.000000</td>\n",
              "      <td>3.000000</td>\n",
              "      <td>3.000000</td>\n",
              "      <td>1.000000</td>\n",
              "      <td>1.00000</td>\n",
              "      <td>1.000000</td>\n",
              "      <td>1.000000</td>\n",
              "    </tr>\n",
              "  </tbody>\n",
              "</table>\n",
              "</div>"
            ],
            "text/plain": [
              "               age       gender  ...       active       cardio\n",
              "count  1000.000000  1000.000000  ...  1000.000000  1000.000000\n",
              "mean     52.721000     1.359000  ...     0.778000     0.507000\n",
              "std       6.926408     0.479947  ...     0.415799     0.500201\n",
              "min      39.000000     1.000000  ...     0.000000     0.000000\n",
              "25%      47.000000     1.000000  ...     1.000000     0.000000\n",
              "50%      53.000000     1.000000  ...     1.000000     1.000000\n",
              "75%      58.000000     2.000000  ...     1.000000     1.000000\n",
              "max      64.000000     2.000000  ...     1.000000     1.000000\n",
              "\n",
              "[8 rows x 12 columns]"
            ]
          },
          "metadata": {
            "tags": []
          },
          "execution_count": 174
        }
      ]
    },
    {
      "cell_type": "code",
      "metadata": {
        "colab": {
          "base_uri": "https://localhost:8080/"
        },
        "id": "kjFbC0NBVIRd",
        "outputId": "b8cfe3e4-6f4b-4e6f-efbc-5714db6cc4e1"
      },
      "source": [
        "df.info()"
      ],
      "execution_count": null,
      "outputs": [
        {
          "output_type": "stream",
          "text": [
            "<class 'pandas.core.frame.DataFrame'>\n",
            "Int64Index: 1000 entries, 0 to 1387\n",
            "Data columns (total 12 columns):\n",
            " #   Column       Non-Null Count  Dtype  \n",
            "---  ------       --------------  -----  \n",
            " 0   age          1000 non-null   int64  \n",
            " 1   gender       1000 non-null   int64  \n",
            " 2   height       1000 non-null   int64  \n",
            " 3   weight       1000 non-null   float64\n",
            " 4   ap_hi        1000 non-null   int64  \n",
            " 5   ap_lo        1000 non-null   int64  \n",
            " 6   cholesterol  1000 non-null   int64  \n",
            " 7   gluc         1000 non-null   int64  \n",
            " 8   smoke        1000 non-null   int64  \n",
            " 9   alco         1000 non-null   int64  \n",
            " 10  active       1000 non-null   int64  \n",
            " 11  cardio       1000 non-null   int64  \n",
            "dtypes: float64(1), int64(11)\n",
            "memory usage: 101.6 KB\n"
          ],
          "name": "stdout"
        }
      ]
    },
    {
      "cell_type": "code",
      "metadata": {
        "id": "c1ZIbAu0heFq"
      },
      "source": [
        "#separate the dataset into target variable and features\n",
        "y = df['cardio']\n",
        "X = df.drop(columns=['cardio'])"
      ],
      "execution_count": null,
      "outputs": []
    },
    {
      "cell_type": "code",
      "metadata": {
        "id": "Awo5H5dOh7zO"
      },
      "source": [
        "#splitting the dataset into train and test\n",
        "X_train, X_test, y_train, y_test = train_test_split(X, y, test_size=0.2, random_state=42)"
      ],
      "execution_count": null,
      "outputs": []
    },
    {
      "cell_type": "code",
      "metadata": {
        "colab": {
          "base_uri": "https://localhost:8080/"
        },
        "id": "PHrxzqPC2of8",
        "outputId": "e016a61b-3e08-47ee-8afd-b8f1a7575afc"
      },
      "source": [
        "#standardize the data\n",
        "from sklearn.preprocessing import StandardScaler\n",
        "sc_X = StandardScaler()\n",
        "X_train = sc_X.fit_transform(X_train)\n",
        "X_train[0:2]"
      ],
      "execution_count": null,
      "outputs": [
        {
          "output_type": "execute_result",
          "data": {
            "text/plain": [
              "array([[ 0.62635073,  1.3225509 ,  0.58166766, -0.05100822,  0.17838269,\n",
              "        -0.21946392, -0.55284395,  2.95129145, -0.31926223, -0.22331316,\n",
              "        -1.84271658],\n",
              "       [ 0.33754348,  1.3225509 , -0.3726192 ,  0.5282649 ,  0.74199309,\n",
              "        -0.11409806, -0.55284395,  2.95129145, -0.31926223, -0.22331316,\n",
              "         0.54267705]])"
            ]
          },
          "metadata": {
            "tags": []
          },
          "execution_count": 178
        }
      ]
    },
    {
      "cell_type": "code",
      "metadata": {
        "id": "8Niov2X_iF6e"
      },
      "source": [
        "#implementation of the logistic regression algorithm from scratch\n",
        "class LogisticRegression:\n",
        "  def __init__(self, learning_rate=0.1, number_of_iterations=1000, verbose=False):\n",
        "    self.learning_rate = learning_rate\n",
        "    self.number_of_iterations = number_of_iterations\n",
        "    self.weights = None\n",
        "    self.bias = None\n",
        "    self.loss = []\n",
        "    self.verbose=verbose\n",
        "  \n",
        "  #initialize weight and bias parameters\n",
        "  def initialize_parameters(self, n): #where n is the number of features/indepedent variables \n",
        "    self.weights = np.zeros(n)\n",
        "    self.bias = 0\n",
        "  \n",
        "  #calculate the binary cross entropy loss\n",
        "  def binary_cross_entropy(self, y, y_hat):\n",
        "    m = y.shape[0]\n",
        "    return -(1/m) * np.sum(y*np.log(y_hat) + (1-y)*np.log(1-y_hat))\n",
        "  \n",
        "  def sigmoid(self, z):\n",
        "    return 1 / (1 + np.exp(-z))\n",
        "  \n",
        "  def fit(self, X, y):\n",
        "    m = X.shape[0] #number of training examples\n",
        "    n = X.shape[1] #number of features/independent variables\n",
        "    \n",
        "    #initialize values of weights and bias\n",
        "    self.initialize_parameters(n)\n",
        "\n",
        "    for i in range(0, self.number_of_iterations):\n",
        "      \n",
        "      #calculate y_hat using the line equation and the sigmoid function\n",
        "      z = np.dot(X, self.weights) + self.bias\n",
        "      y_hat = self.sigmoid(z) + 0.00001 #adding 0.00001 to avoid 0 in the log function\n",
        "\n",
        "      #calculate the loss\n",
        "      loss = self.binary_cross_entropy(y, y_hat)\n",
        "      self.loss.append(loss)\n",
        "\n",
        "      #calculate partial derivates\n",
        "      dw = (1/m)*(2*np.dot(X.T, (y_hat-y)))\n",
        "      db = (1/m)*(np.sum(y_hat-y))\n",
        "\n",
        "      #update weights and bias\n",
        "      self.weights -= self.learning_rate*dw\n",
        "      self.bias -= self.learning_rate*db\n",
        "\n",
        "      if i%100 == 0 and self.verbose:\n",
        "        print(f\"Loss after iteration {i} is: {loss}\")\n",
        "  \n",
        "\n",
        "  #calculate the prediction probabilities of the given data \n",
        "  def predict_proba(self, X):\n",
        "    z = np.dot(X, self.weights) + self.bias\n",
        "    return self.sigmoid(z)\n",
        "  \n",
        "  #predict the final outcome based on the threshold and prediction probablities calculated using the line equation and the sigmoid function\n",
        "  def predict(self, X, theta=0.5): #where theta represents the threshold\n",
        "    probabilities = self.predict_proba(X)\n",
        "    predictions = [1 if i>theta else 0 for i in probabilities]\n",
        "    return predictions"
      ],
      "execution_count": null,
      "outputs": []
    },
    {
      "cell_type": "code",
      "metadata": {
        "colab": {
          "base_uri": "https://localhost:8080/"
        },
        "id": "SYoY2bF2p22X",
        "outputId": "762cc097-8c01-450e-faba-1ee2470c7202"
      },
      "source": [
        "#train the model\n",
        "model = LogisticRegression(learning_rate=0.01, number_of_iterations=1000, verbose=True)\n",
        "model.fit(X_train, y_train.values)"
      ],
      "execution_count": null,
      "outputs": [
        {
          "output_type": "stream",
          "text": [
            "Loss after iteration 0 is: 0.6931472807599454\n",
            "Loss after iteration 100 is: 0.5881072526548156\n",
            "Loss after iteration 200 is: 0.5576437379880775\n",
            "Loss after iteration 300 is: 0.544996398764833\n",
            "Loss after iteration 400 is: 0.538584881833526\n",
            "Loss after iteration 500 is: 0.5349354361801105\n",
            "Loss after iteration 600 is: 0.5327026291893859\n",
            "Loss after iteration 700 is: 0.5312690184892225\n",
            "Loss after iteration 800 is: 0.5303161589133053\n",
            "Loss after iteration 900 is: 0.5296658032779133\n"
          ],
          "name": "stdout"
        }
      ]
    },
    {
      "cell_type": "code",
      "metadata": {
        "colab": {
          "base_uri": "https://localhost:8080/",
          "height": 282
        },
        "id": "VF4cr57LKqr4",
        "outputId": "b23cec67-4b96-44c6-a397-ad3284f759df"
      },
      "source": [
        "#plotting loss per iteration\n",
        "import matplotlib.pyplot as plt\n",
        "plt.plot(range(0, len(model.loss)), model.loss)\n",
        "plt.xlabel(\"no. of iterations\")\n",
        "plt.ylabel(\"loss\")\n",
        "plt.show()"
      ],
      "execution_count": null,
      "outputs": [
        {
          "output_type": "display_data",
          "data": {
            "image/png": "[encoded data removed]",
            "text/plain": [
              "<Figure size 432x288 with 1 Axes>"
            ]
          },
          "metadata": {
            "tags": [],
            "needs_background": "light"
          }
        }
      ]
    },
    {
      "cell_type": "code",
      "metadata": {
        "colab": {
          "base_uri": "https://localhost:8080/"
        },
        "id": "VCjAwIKv26Ev",
        "outputId": "53afff9b-5f38-4187-9878-223767bdf03e"
      },
      "source": [
        "y_pred= model.predict(sc_X.transform(X_test))\n",
        "y_pred[0:5]"
      ],
      "execution_count": null,
      "outputs": [
        {
          "output_type": "execute_result",
          "data": {
            "text/plain": [
              "[0, 1, 1, 0, 0]"
            ]
          },
          "metadata": {
            "tags": []
          },
          "execution_count": 182
        }
      ]
    },
    {
      "cell_type": "code",
      "metadata": {
        "colab": {
          "base_uri": "https://localhost:8080/"
        },
        "id": "5WIX1KWdzd22",
        "outputId": "30003a9d-1566-4b27-970e-a363486b4804"
      },
      "source": [
        "from sklearn.metrics import accuracy_score, confusion_matrix\n",
        "accuracy_score(y_test, y_pred)"
      ],
      "execution_count": null,
      "outputs": [
        {
          "output_type": "execute_result",
          "data": {
            "text/plain": [
              "0.765"
            ]
          },
          "metadata": {
            "tags": []
          },
          "execution_count": 183
        }
      ]
    },
    {
      "cell_type": "code",
      "metadata": {
        "colab": {
          "base_uri": "https://localhost:8080/"
        },
        "id": "tf2x1_QIE6PD",
        "outputId": "1b773bc2-11c3-4008-f8e6-0657b8a520e8"
      },
      "source": [
        "confusion_matrix(y_test, y_pred)"
      ],
      "execution_count": null,
      "outputs": [
        {
          "output_type": "execute_result",
          "data": {
            "text/plain": [
              "array([[73, 18],\n",
              "       [29, 80]])"
            ]
          },
          "metadata": {
            "tags": []
          },
          "execution_count": 184
        }
      ]
    },
    {
      "cell_type": "code",
      "metadata": {
        "id": "jWbow9YZvSG5"
      },
      "source": [
        "#comparison with sklearn's implementation\n",
        "from sklearn.linear_model import LogisticRegression\n",
        "\n",
        "model = LogisticRegression()\n",
        "model.fit(X_train, y_train)\n",
        "preds = model.predict(sc_X.transform(X_test))"
      ],
      "execution_count": null,
      "outputs": []
    },
    {
      "cell_type": "code",
      "metadata": {
        "colab": {
          "base_uri": "https://localhost:8080/"
        },
        "id": "BjlA2Vxiy2CC",
        "outputId": "6b8d3de5-c356-4620-b576-d046813d8b2e"
      },
      "source": [
        "accuracy_score(y_test, preds)"
      ],
      "execution_count": null,
      "outputs": [
        {
          "output_type": "execute_result",
          "data": {
            "text/plain": [
              "0.77"
            ]
          },
          "metadata": {
            "tags": []
          },
          "execution_count": 186
        }
      ]
    },
    {
      "cell_type": "code",
      "metadata": {
        "colab": {
          "base_uri": "https://localhost:8080/"
        },
        "id": "XXPHjCHKGvRR",
        "outputId": "ffbf8981-ae59-4724-e91c-60ddcb35ac98"
      },
      "source": [
        "confusion_matrix(y_test, preds)"
      ],
      "execution_count": null,
      "outputs": [
        {
          "output_type": "execute_result",
          "data": {
            "text/plain": [
              "array([[71, 20],\n",
              "       [26, 83]])"
            ]
          },
          "metadata": {
            "tags": []
          },
          "execution_count": 187
        }
      ]
    }
  ]
}
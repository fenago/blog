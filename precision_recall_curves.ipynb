{
  "nbformat": 4,
  "nbformat_minor": 0,
  "metadata": {
    "colab": {
      "name": "precision_recall_curves.ipynb",
      "provenance": []
    },
    "kernelspec": {
      "name": "python3",
      "display_name": "Python 3"
    },
    "language_info": {
      "name": "python"
    }
  },
  "cells": [
    {
      "cell_type": "code",
      "metadata": {
        "id": "rocoGyOwG10e"
      },
      "source": [
        "import numpy as np\n",
        "import pandas as pd\n",
        "from sklearn.model_selection import train_test_split\n",
        "import matplotlib.pyplot as plt\n",
        "from matplotlib import rcParams\n",
        "rcParams['axes.spines.top'] = False\n",
        "rcParams['axes.spines.right'] = False"
      ],
      "execution_count": null,
      "outputs": []
    },
    {
      "cell_type": "code",
      "metadata": {
        "colab": {
          "base_uri": "https://localhost:8080/",
          "height": 241
        },
        "id": "Bk6Qq7VQHKw8",
        "outputId": "4c1381ae-ec82-44e2-d6cb-f674904f087f"
      },
      "source": [
        "#load the dataset into a pandas DataFrame\n",
        "df  = pd.read_csv(\"UniversalBank.csv\")\n",
        "df.head()"
      ],
      "execution_count": null,
      "outputs": [
        {
          "output_type": "execute_result",
          "data": {
            "text/html": [
              "<div>\n",
              "<style scoped>\n",
              "    .dataframe tbody tr th:only-of-type {\n",
              "        vertical-align: middle;\n",
              "    }\n",
              "\n",
              "    .dataframe tbody tr th {\n",
              "        vertical-align: top;\n",
              "    }\n",
              "\n",
              "    .dataframe thead th {\n",
              "        text-align: right;\n",
              "    }\n",
              "</style>\n",
              "<table border=\"1\" class=\"dataframe\">\n",
              "  <thead>\n",
              "    <tr style=\"text-align: right;\">\n",
              "      <th></th>\n",
              "      <th>ID</th>\n",
              "      <th>Age</th>\n",
              "      <th>Experience</th>\n",
              "      <th>Income</th>\n",
              "      <th>ZIP Code</th>\n",
              "      <th>Family</th>\n",
              "      <th>CCAvg</th>\n",
              "      <th>Education</th>\n",
              "      <th>Mortgage</th>\n",
              "      <th>Personal Loan</th>\n",
              "      <th>Securities Account</th>\n",
              "      <th>CD Account</th>\n",
              "      <th>Online</th>\n",
              "      <th>CreditCard</th>\n",
              "    </tr>\n",
              "  </thead>\n",
              "  <tbody>\n",
              "    <tr>\n",
              "      <th>0</th>\n",
              "      <td>1</td>\n",
              "      <td>25</td>\n",
              "      <td>1</td>\n",
              "      <td>49</td>\n",
              "      <td>91107</td>\n",
              "      <td>4</td>\n",
              "      <td>1.6</td>\n",
              "      <td>1</td>\n",
              "      <td>0</td>\n",
              "      <td>0</td>\n",
              "      <td>1</td>\n",
              "      <td>0</td>\n",
              "      <td>0</td>\n",
              "      <td>0</td>\n",
              "    </tr>\n",
              "    <tr>\n",
              "      <th>1</th>\n",
              "      <td>2</td>\n",
              "      <td>45</td>\n",
              "      <td>19</td>\n",
              "      <td>34</td>\n",
              "      <td>90089</td>\n",
              "      <td>3</td>\n",
              "      <td>1.5</td>\n",
              "      <td>1</td>\n",
              "      <td>0</td>\n",
              "      <td>0</td>\n",
              "      <td>1</td>\n",
              "      <td>0</td>\n",
              "      <td>0</td>\n",
              "      <td>0</td>\n",
              "    </tr>\n",
              "    <tr>\n",
              "      <th>2</th>\n",
              "      <td>3</td>\n",
              "      <td>39</td>\n",
              "      <td>15</td>\n",
              "      <td>11</td>\n",
              "      <td>94720</td>\n",
              "      <td>1</td>\n",
              "      <td>1.0</td>\n",
              "      <td>1</td>\n",
              "      <td>0</td>\n",
              "      <td>0</td>\n",
              "      <td>0</td>\n",
              "      <td>0</td>\n",
              "      <td>0</td>\n",
              "      <td>0</td>\n",
              "    </tr>\n",
              "    <tr>\n",
              "      <th>3</th>\n",
              "      <td>4</td>\n",
              "      <td>35</td>\n",
              "      <td>9</td>\n",
              "      <td>100</td>\n",
              "      <td>94112</td>\n",
              "      <td>1</td>\n",
              "      <td>2.7</td>\n",
              "      <td>2</td>\n",
              "      <td>0</td>\n",
              "      <td>0</td>\n",
              "      <td>0</td>\n",
              "      <td>0</td>\n",
              "      <td>0</td>\n",
              "      <td>0</td>\n",
              "    </tr>\n",
              "    <tr>\n",
              "      <th>4</th>\n",
              "      <td>5</td>\n",
              "      <td>35</td>\n",
              "      <td>8</td>\n",
              "      <td>45</td>\n",
              "      <td>91330</td>\n",
              "      <td>4</td>\n",
              "      <td>1.0</td>\n",
              "      <td>2</td>\n",
              "      <td>0</td>\n",
              "      <td>0</td>\n",
              "      <td>0</td>\n",
              "      <td>0</td>\n",
              "      <td>0</td>\n",
              "      <td>1</td>\n",
              "    </tr>\n",
              "  </tbody>\n",
              "</table>\n",
              "</div>"
            ],
            "text/plain": [
              "   ID  Age  Experience  ...  CD Account  Online  CreditCard\n",
              "0   1   25           1  ...           0       0           0\n",
              "1   2   45          19  ...           0       0           0\n",
              "2   3   39          15  ...           0       0           0\n",
              "3   4   35           9  ...           0       0           0\n",
              "4   5   35           8  ...           0       0           1\n",
              "\n",
              "[5 rows x 14 columns]"
            ]
          },
          "metadata": {
            "tags": []
          },
          "execution_count": 2
        }
      ]
    },
    {
      "cell_type": "code",
      "metadata": {
        "id": "XRN89aQIRLrq"
      },
      "source": [
        "#drop the unnecessary attributes\n",
        "df.drop(columns=['ID', 'ZIP Code'], inplace=True)"
      ],
      "execution_count": null,
      "outputs": []
    },
    {
      "cell_type": "code",
      "metadata": {
        "colab": {
          "base_uri": "https://localhost:8080/"
        },
        "id": "i4BOn-2lHM2T",
        "outputId": "7af7337a-98de-4f7a-97ed-771d4e2903d3"
      },
      "source": [
        "#get the size of the dataset\n",
        "df.shape"
      ],
      "execution_count": null,
      "outputs": [
        {
          "output_type": "execute_result",
          "data": {
            "text/plain": [
              "(5000, 12)"
            ]
          },
          "metadata": {
            "tags": []
          },
          "execution_count": 5
        }
      ]
    },
    {
      "cell_type": "code",
      "metadata": {
        "id": "2jLngM7tNQcf"
      },
      "source": [
        "#separate the dataset into target variable and features\n",
        "y = df['Personal Loan']\n",
        "X = df.drop(columns=['Personal Loan'])"
      ],
      "execution_count": null,
      "outputs": []
    },
    {
      "cell_type": "code",
      "metadata": {
        "id": "QaBNIMn4H6xh"
      },
      "source": [
        "#splitting the dataset into train and test sample\n",
        "X_train, X_test, y_train, y_test = train_test_split(X, y, test_size=0.20, random_state=42)"
      ],
      "execution_count": null,
      "outputs": []
    },
    {
      "cell_type": "code",
      "metadata": {
        "id": "xa7gXdeCIDVB"
      },
      "source": [
        "#standardize the data\n",
        "from sklearn.preprocessing import StandardScaler\n",
        "\n",
        "sc = StandardScaler()\n",
        "X_train = sc.fit_transform(X_train)\n",
        "X_test = sc.transform(X_test)"
      ],
      "execution_count": null,
      "outputs": []
    },
    {
      "cell_type": "code",
      "metadata": {
        "id": "7cw6PYjvH9fp"
      },
      "source": [
        "from sklearn.linear_model import LogisticRegression\n",
        "from sklearn.neighbors import KNeighborsClassifier\n",
        "from sklearn.tree import DecisionTreeClassifier\n",
        "from sklearn.ensemble import RandomForestClassifier\n",
        "from sklearn.svm import SVC\n",
        "\n",
        "lr = LogisticRegression().fit(X_train, y_train)\n",
        "lr_probabilities = lr.predict_proba(X_test)[:, 1]\n",
        "\n",
        "knn = KNeighborsClassifier().fit(X_train, y_train)\n",
        "knn_probabilities = knn.predict_proba(X_test)[:, 1]\n",
        "\n",
        "dt = DecisionTreeClassifier().fit(X_train, y_train)\n",
        "dt_probabilities = dt.predict_proba(X_test)[:, 1]\n",
        "\n",
        "rf = RandomForestClassifier().fit(X_train, y_train)\n",
        "rf_probabilities = rf.predict_proba(X_test)[:, 1]\n",
        "\n",
        "svc = SVC(probability=True).fit(X_train, y_train)\n",
        "svc_probabilities = svc.predict_proba(X_test)[:, 1]"
      ],
      "execution_count": null,
      "outputs": []
    },
    {
      "cell_type": "code",
      "metadata": {
        "id": "ubxOYXF6IH0p"
      },
      "source": [
        "from sklearn.metrics import auc, precision_recall_curve\n",
        "\n",
        "#Precision-Recall Curve and AUC score for Logistic Regression\n",
        "lr_precision, lr_recall, lr_thresholds = precision_recall_curve(y_test, lr_probabilities)\n",
        "lr_auc = auc(lr_recall, lr_precision)\n",
        "\n",
        "#Precision-Recall Curve and AUC score for K-Nearest Neighbors\n",
        "knn_precision, knn_recall, knn_thresholds = precision_recall_curve(y_test, knn_probabilities)\n",
        "knn_auc = auc(knn_recall, knn_precision)\n",
        "\n",
        "#Precision-Recall Curve and AUC score for the Decision Tree Classifier\n",
        "dt_precision, dt_recall, dt_thresholds = precision_recall_curve(y_test, dt_probabilities)\n",
        "dt_auc = auc(dt_recall, dt_precision)\n",
        "\n",
        "#Precision-Recall Curve and AUC score for the Random Forest Classifier\n",
        "rf_precision, rf_recall, rf_thresholds = precision_recall_curve(y_test, rf_probabilities)\n",
        "rf_auc = auc(rf_recall, rf_precision)\n",
        "\n",
        "#Precision-Recall Curve and AUC score for The SVM Classifier\n",
        "svc_precision, svc_recall, svc_thresholds = precision_recall_curve(y_test, svc_probabilities)\n",
        "svc_auc = auc(svc_recall, svc_precision)\n",
        "\n",
        "#baseline model\n",
        "baseline_model = sum(y_test == 1) / len(y_test)"
      ],
      "execution_count": null,
      "outputs": []
    },
    {
      "cell_type": "code",
      "metadata": {
        "colab": {
          "base_uri": "https://localhost:8080/",
          "height": 412
        },
        "id": "7Mr2eejnKGNy",
        "outputId": "5a16876c-da0b-4074-c67d-e78d8531cfff"
      },
      "source": [
        "#plots the Precision-Recall curves\n",
        "plt.figure(figsize=(10, 6))\n",
        "\n",
        "plt.plot(lr_recall, lr_precision, label=f\"AUC (PR) - Logistic Regression:  {lr_auc}\")\n",
        "plt.plot(knn_recall, knn_precision, label=f\"AUC (PR) - KNN:  {knn_auc}\")\n",
        "plt.plot(dt_recall, dt_precision, label=f\"AUC (PR) - Decision Trees: {dt_auc}\")\n",
        "plt.plot(rf_recall, rf_precision, label=f\"AUC (PR) - Random Forests: {rf_auc}\")\n",
        "plt.plot(svc_recall, svc_precision, label=f\"AUC (PR) - SVM Classifier: {svc_auc}\")\n",
        "\n",
        "plt.plot([0, 1], [baseline_model, baseline_model], linestyle='--', label='Baseline')\n",
        "\n",
        "plt.xlabel('Precision', size=14)\n",
        "plt.ylabel('Recall', size=14)\n",
        "plt.title('Precision-Recall Curve', size=18)\n",
        "plt.legend()\n",
        "\n",
        "plt.show()"
      ],
      "execution_count": null,
      "outputs": [
        {
          "output_type": "display_data",
          "data": {
            "image/png": "[encoded data removed]",
            "text/plain": [
              "<Figure size 720x432 with 1 Axes>"
            ]
          },
          "metadata": {
            "tags": [],
            "needs_background": "light"
          }
        }
      ]
    }
  ]
}
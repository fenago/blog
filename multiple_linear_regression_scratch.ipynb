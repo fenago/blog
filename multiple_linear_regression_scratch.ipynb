{
  "nbformat": 4,
  "nbformat_minor": 0,
  "metadata": {
    "colab": {
      "name": "multiple_linear_regression_scratch.ipynb",
      "provenance": []
    },
    "kernelspec": {
      "name": "python3",
      "display_name": "Python 3"
    },
    "language_info": {
      "name": "python"
    }
  },
  "cells": [
    {
      "cell_type": "code",
      "metadata": {
        "id": "iOLnujUgnLdp"
      },
      "source": [
        "import numpy as np \n",
        "import pandas as pd \n",
        "from sklearn import preprocessing\n",
        "from sklearn.model_selection import train_test_split\n",
        "import math\n",
        "from datetime import datetime, timedelta\n",
        "import matplotlib.pyplot as plt\n",
        "\n",
        "\n",
        "from matplotlib import style\n",
        "style.use('fivethirtyeight')\n",
        "\n",
        "\n",
        "df=pd.read_csv('Google.csv')\n",
        "df['Date'] = df['Date'].astype('datetime64[ns]')\n",
        "df.set_index('Date',inplace=True)\n",
        "df['High_Low_Change']=(df['Adj. High']-df['Adj. Close'])/df['Adj. Close']*100.0\n",
        "df['Change_Perc']=(df['Adj. Close']-df['Adj. Open'])/df['Adj. Open']*100.0\n",
        "    \n",
        "df=df[['Adj. Close','High_Low_Change','Change_Perc','Adj. Volume']]\n",
        "df.fillna(-9999,inplace=True)\n",
        "    \n",
        "  \n",
        "#Label\n",
        "df['Price_After_Month']=df['Adj. Close'].shift(-30)\n",
        "\n",
        "#Features\n",
        "X=np.array(df.drop(['Price_After_Month'],1))\n",
        "X=preprocessing.scale(X)\n",
        "X=X[:-30]\n",
        "X_Check=X[-30:]\n",
        "    \n",
        "df.dropna(inplace=True)\n",
        "y=np.array(df['Price_After_Month'])\n",
        "    \n",
        "#Splitting the data set for training and testin\n",
        "X_train, X_test, y_train, y_test = train_test_split(X,y,test_size=0.3\n",
        "                                                    random_state=23)"
      ],
      "execution_count": 16,
      "outputs": []
    },
    {
      "cell_type": "code",
      "metadata": {
        "colab": {
          "base_uri": "https://localhost:8080/",
          "height": 227
        },
        "id": "7mdY08f0vIf7",
        "outputId": "d3fbeb18-6c59-4fec-dc71-46644cd67921"
      },
      "source": [
        "df.head()"
      ],
      "execution_count": 32,
      "outputs": [
        {
          "output_type": "execute_result",
          "data": {
            "text/html": [
              "<div>\n",
              "<style scoped>\n",
              "    .dataframe tbody tr th:only-of-type {\n",
              "        vertical-align: middle;\n",
              "    }\n",
              "\n",
              "    .dataframe tbody tr th {\n",
              "        vertical-align: top;\n",
              "    }\n",
              "\n",
              "    .dataframe thead th {\n",
              "        text-align: right;\n",
              "    }\n",
              "</style>\n",
              "<table border=\"1\" class=\"dataframe\">\n",
              "  <thead>\n",
              "    <tr style=\"text-align: right;\">\n",
              "      <th></th>\n",
              "      <th>Adj. Close</th>\n",
              "      <th>High_Low_Change</th>\n",
              "      <th>Change_Perc</th>\n",
              "      <th>Adj. Volume</th>\n",
              "      <th>Price_After_Month</th>\n",
              "    </tr>\n",
              "    <tr>\n",
              "      <th>Date</th>\n",
              "      <th></th>\n",
              "      <th></th>\n",
              "      <th></th>\n",
              "      <th></th>\n",
              "      <th></th>\n",
              "    </tr>\n",
              "  </thead>\n",
              "  <tbody>\n",
              "    <tr>\n",
              "      <th>2004-08-19</th>\n",
              "      <td>50.322842</td>\n",
              "      <td>3.712563</td>\n",
              "      <td>0.324968</td>\n",
              "      <td>44659000.0</td>\n",
              "      <td>66.495265</td>\n",
              "    </tr>\n",
              "    <tr>\n",
              "      <th>2004-08-20</th>\n",
              "      <td>54.322689</td>\n",
              "      <td>0.710922</td>\n",
              "      <td>7.227007</td>\n",
              "      <td>22834300.0</td>\n",
              "      <td>67.739104</td>\n",
              "    </tr>\n",
              "    <tr>\n",
              "      <th>2004-08-23</th>\n",
              "      <td>54.869377</td>\n",
              "      <td>3.729433</td>\n",
              "      <td>-1.227880</td>\n",
              "      <td>18256100.0</td>\n",
              "      <td>69.399229</td>\n",
              "    </tr>\n",
              "    <tr>\n",
              "      <th>2004-08-24</th>\n",
              "      <td>52.597363</td>\n",
              "      <td>6.417469</td>\n",
              "      <td>-5.726357</td>\n",
              "      <td>15247300.0</td>\n",
              "      <td>68.752232</td>\n",
              "    </tr>\n",
              "    <tr>\n",
              "      <th>2004-08-25</th>\n",
              "      <td>53.164113</td>\n",
              "      <td>1.886792</td>\n",
              "      <td>1.183658</td>\n",
              "      <td>9188600.0</td>\n",
              "      <td>69.639972</td>\n",
              "    </tr>\n",
              "  </tbody>\n",
              "</table>\n",
              "</div>"
            ],
            "text/plain": [
              "            Adj. Close  High_Low_Change  ...  Adj. Volume  Price_After_Month\n",
              "Date                                     ...                                \n",
              "2004-08-19   50.322842         3.712563  ...   44659000.0          66.495265\n",
              "2004-08-20   54.322689         0.710922  ...   22834300.0          67.739104\n",
              "2004-08-23   54.869377         3.729433  ...   18256100.0          69.399229\n",
              "2004-08-24   52.597363         6.417469  ...   15247300.0          68.752232\n",
              "2004-08-25   53.164113         1.886792  ...    9188600.0          69.639972\n",
              "\n",
              "[5 rows x 5 columns]"
            ]
          },
          "metadata": {
            "tags": []
          },
          "execution_count": 32
        }
      ]
    },
    {
      "cell_type": "code",
      "metadata": {
        "id": "P7vOn-EGoiqV"
      },
      "source": [
        "from matplotlib import rcParams\n",
        "\n",
        "rcParams['figure.figsize'] = (14, 7)\n",
        "rcParams['axes.spines.top'] = False\n",
        "rcParams['axes.spines.right'] = False"
      ],
      "execution_count": 20,
      "outputs": []
    },
    {
      "cell_type": "code",
      "metadata": {
        "id": "RHcgFyJfos_C"
      },
      "source": [
        "\n",
        "class LinearRegressionscratch:\n",
        "    '''\n",
        "    A class which implements linear regression model with gradient descent.\n",
        "    '''\n",
        "    def __init__(self, learning_rate=0.01, n_iterations=10000):\n",
        "        self.learning_rate = learning_rate\n",
        "        self.n_iterations = n_iterations\n",
        "        self.weights, self.bias = None, None\n",
        "        self.loss = []\n",
        "        \n",
        "    @staticmethod\n",
        "    def _mean_squared_error(y, y_hat):\n",
        "        '''\n",
        "        Private method, used to evaluate loss at each iteration.\n",
        "        \n",
        "        :param: y - array, true values\n",
        "        :param: y_hat - array, predicted values\n",
        "        :return: float\n",
        "        '''\n",
        "        error = 0\n",
        "        for i in range(len(y)):\n",
        "            error += (y[i] - y_hat[i]) ** 2\n",
        "        return error / len(y)\n",
        "    \n",
        "    def fit(self, X, y):\n",
        "        '''\n",
        "        Used to calculate the coefficient of the linear regression model.\n",
        "        \n",
        "        :param X: array, features\n",
        "        :param y: array, true values\n",
        "        :return: None\n",
        "        '''\n",
        "        # 1. Initialize weights and bias to zeros\n",
        "        self.weights = np.zeros(X.shape[1])\n",
        "        self.bias = 0\n",
        "        \n",
        "        # 2. Perform gradient descent\n",
        "        for i in range(self.n_iterations):\n",
        "            # Line equation\n",
        "            y_hat = np.dot(X, self.weights) + self.bias\n",
        "            loss = self._mean_squared_error(y, y_hat)\n",
        "            self.loss.append(loss)\n",
        "            \n",
        "            # Calculate derivatives\n",
        "            partial_w = (1 / X.shape[0]) * (2 * np.dot(X.T, (y_hat - y)))\n",
        "            partial_d = (1 / X.shape[0]) * (2 * np.sum(y_hat - y))\n",
        "            \n",
        "            # Update the coefficients\n",
        "            self.weights -= self.learning_rate * partial_w\n",
        "            self.bias -= self.learning_rate * partial_d\n",
        "        \n",
        "        \n",
        "    def predict(self, X):\n",
        "        '''\n",
        "        Makes predictions using the line equation.\n",
        "        \n",
        "        :param X: array, features\n",
        "        :return: array, predictions\n",
        "        '''\n",
        "        return np.dot(X, self.weights) + self.bias\n"
      ],
      "execution_count": 30,
      "outputs": []
    },
    {
      "cell_type": "code",
      "metadata": {
        "id": "d4rouwYBoxil"
      },
      "source": [
        "model = LinearRegressionscratch()\n",
        "model.fit(X_train, y_train)\n",
        "preds = model.predict(X_test)"
      ],
      "execution_count": 24,
      "outputs": []
    },
    {
      "cell_type": "code",
      "metadata": {
        "colab": {
          "base_uri": "https://localhost:8080/"
        },
        "id": "f1BlAO-vM_sK",
        "outputId": "ec204473-c931-45f8-9f03-0566b4c1fd24"
      },
      "source": [
        "preds"
      ],
      "execution_count": 34,
      "outputs": [
        {
          "output_type": "execute_result",
          "data": {
            "text/plain": [
              "array([326.86893852, 161.79133061, 212.58826192, 314.7659606 ,\n",
              "       538.38964074, 255.9237626 ,  62.22736856, 454.11843139,\n",
              "       226.03324255, 271.40811456,  95.21486921, 282.19160447,\n",
              "       106.07516556, 558.85505387, 314.27163572, 713.72859527,\n",
              "       216.0777868 , 714.29376035, 143.71188286, 662.07928354,\n",
              "       252.22168002, 395.79137312, 248.13701815, 738.58695107,\n",
              "       513.07468472, 227.11560924, 380.15693481, 258.99616841,\n",
              "       546.87075136,  96.25662167, 729.61106206, 333.8741764 ,\n",
              "       278.44182142, 217.75416659, 765.14031683, 523.41480401,\n",
              "       296.01225958, 242.91055989, 370.48708697, 812.98571188,\n",
              "        97.63223717, 145.89349533, 522.0694949 , 185.78513802,\n",
              "       609.88026855, 627.27543365, 774.26688793, 320.65827227,\n",
              "       280.39814027, 763.9223758 , 244.84381308, 176.4348569 ,\n",
              "       736.55978813, 351.26971752, 244.69815698, 202.39130638,\n",
              "       244.07363606, 764.92455748, 312.97647497, 590.90836768,\n",
              "       569.4755843 , 289.75849246, 551.16464678, 443.99313244,\n",
              "       546.03893655, 313.66702632, 542.86296016, 150.20062821,\n",
              "       544.90679114, 341.75198055, 233.67451691, 676.54498589,\n",
              "       372.27945228, 306.72973588, 745.43301206, 735.10585487,\n",
              "       559.89223265, 248.77415466, 288.72003964, 186.48446481,\n",
              "       282.53615487, 581.61819568, 256.46027372, 319.38001413,\n",
              "       512.64894629, 260.49604313, 557.5380246 , 318.54408654,\n",
              "       361.30827172, 323.5461121 , 379.50304175, 134.97349238,\n",
              "       221.14257295,  97.19851465, 425.46426138, 257.94366334,\n",
              "       309.25457592, 184.46396765, 593.36246108, 230.80181781,\n",
              "       471.17519822, 156.14785992, 341.54907297, 411.61609529,\n",
              "       283.47723168, 671.15638021, 448.00233553, 706.04990638,\n",
              "       313.6825171 , 171.3011504 , 572.84281049, 208.18173073,\n",
              "       159.12128894, 202.88723654, 778.4318288 , 527.92605985,\n",
              "       318.1292632 , 241.65082097, 213.03562029, 223.67322213,\n",
              "       377.73675599, 561.55814996, 265.31346349, 734.61590003,\n",
              "       125.31189297, 144.70540277, 273.83308012, 177.4784383 ,\n",
              "       412.186962  , 204.18714225, 762.35541958, 168.98785146,\n",
              "       233.29346463, 400.85143156, 264.33018545, 269.66703793,\n",
              "       160.49313584, 311.95710103, 254.09488201, 260.09787444,\n",
              "       263.60008217, 318.74305333, 613.58010083, 279.31294852,\n",
              "       315.30921426, 603.38292059, 558.11226187, 280.08312621,\n",
              "       575.91064186, 334.40193316, 447.0582966 , 164.15011351,\n",
              "       179.56918521, 347.20813004, 668.39427739, 247.87156575,\n",
              "       164.44011485, 120.58507158, 406.17411607, 196.4821656 ,\n",
              "       697.56876643, 156.0195121 , 186.30988245, 151.86814564,\n",
              "       820.19860231, 538.9400578 , 249.90447899, 677.31580333,\n",
              "       590.94435395, 117.64018965,  64.29847885, 598.4735273 ,\n",
              "       103.81495057, 459.40407569, 561.17557394, 292.35556553,\n",
              "       202.7108334 , 259.63303779, 214.28418685, 322.66905483,\n",
              "        71.96213942, 272.31680548, 300.13601262,  96.30466432,\n",
              "       750.17512658, 258.57684018, 806.72578019, 240.00754704,\n",
              "       250.80300585, 572.23561278, 565.0935721 , 341.46966421,\n",
              "       158.54567821, 313.78497163, 243.64222603, 811.84442748,\n",
              "       275.72112768, 450.72316337, 600.95279661,  80.88236887,\n",
              "       541.74174311, 593.6988016 , 103.85999368,  97.26735366,\n",
              "       588.56978101, 256.21450184, 223.252182  , 181.10392327,\n",
              "        99.11445393, 644.8717384 , 266.81332865, 253.6583379 ,\n",
              "       770.02962603, 278.77323981, 198.60016266, 605.6925765 ,\n",
              "       324.77763531, 248.20347559, 508.42844732, 538.69819962,\n",
              "       386.56579207, 303.78778128, 463.57297611, 124.48013227,\n",
              "       103.75496802, 250.62389214, 236.33954339, 164.852025  ,\n",
              "       300.81025441, 240.0868147 , 246.8212861 , 567.32531148,\n",
              "       193.57360442, 249.94926397, 724.09061753, 605.0462942 ,\n",
              "       585.44818836, 253.19696193, 276.07597656, 276.49794577,\n",
              "       527.1201938 , 585.83917835, 277.35837309, 197.45156436,\n",
              "       186.66897776, 274.32540665, 350.12267416, 202.74061633,\n",
              "       578.28938036, 563.21650791, 550.13209815, 194.19801314,\n",
              "       422.8657131 , 412.39620348, 266.10613195, 339.61789131,\n",
              "       157.04297062, 453.66658253, 300.68835641, 735.57363938,\n",
              "       249.37543268, 321.23165692, 370.99420773, 591.80632183,\n",
              "       306.57940329, 293.93467454, 531.09138014, 551.3344776 ,\n",
              "       200.93939877, 389.09940883, 159.6994161 , 293.86957982,\n",
              "       457.33247377, 738.6762596 , 287.3657725 , 265.44184099,\n",
              "       197.98257289, 295.65215213, 160.13402291, 216.4171816 ,\n",
              "       314.41985557, 744.21353668, 277.73328567, 221.98315639,\n",
              "       208.00053224, 278.28296425, 193.58578229, 298.52339446,\n",
              "       142.58866248, 539.79975724, 277.80258345, 405.6372146 ,\n",
              "        97.68188441, 130.55797394, 287.31357612, 320.43024533,\n",
              "       243.67181721, 210.2939721 , 238.21863632, 239.88833307,\n",
              "       247.31509719, 559.00707833, 217.17649815, 424.02543465,\n",
              "       806.46367743, 237.18529559, 298.1503339 , 403.41706607,\n",
              "       273.85847467, 239.38886712, 734.21293396, 236.67575219,\n",
              "       275.60313254, 448.93973583, 563.75202059, 300.48295664,\n",
              "       786.70431088, 161.57642491, 590.69005195, 616.77009234,\n",
              "       159.14941894,  97.95970409, 566.9812585 , 323.61600114,\n",
              "       441.4771244 , 446.68258102, 286.8072463 , 175.02140842,\n",
              "       210.79108501, 303.94472943, 245.48840852, 199.71815022,\n",
              "        87.52064106, 277.97127166,  79.58195424, 217.7797619 ,\n",
              "       299.07321189, 759.71202071, 335.79099597, 310.5211111 ,\n",
              "       208.33357776, 410.36885414, 286.74746188, 571.3174407 ,\n",
              "       542.36141463, 207.9150071 , 126.10607558, 275.97587179,\n",
              "       180.11803758, 773.87500195, 693.55786251, 308.27988339,\n",
              "       281.93703687, 555.92713798, 240.73321475, 243.75161271,\n",
              "       811.53317385, 230.28527124, 250.88415408, 241.81967587,\n",
              "       256.16822515,  86.68270465, 184.21818192, 273.39048457,\n",
              "       158.23529027, 522.99533815, 142.6893835 , 208.48647352,\n",
              "       697.86897581, 722.93836508, 286.27565556, 280.36545176,\n",
              "       418.25232518, 273.68021566, 171.60003844, 258.8488972 ,\n",
              "       353.63236001, 310.31515219, 171.32810824, 721.56545705,\n",
              "       301.86045022, 200.05469288, 578.70987428, 702.06427653,\n",
              "       249.90843169, 566.58535572, 203.50168997, 101.87433961,\n",
              "       268.31197223,  77.54836588, 244.9991627 , 556.56901545,\n",
              "       101.76636351, 319.50260917, 213.1755524 , 225.77293797,\n",
              "       238.84484457, 202.28522287, 365.45813507, 278.09422631,\n",
              "       293.92860208, 659.55396898, 793.53907173, 330.95412087,\n",
              "       246.35653992, 294.39323292, 194.24236683, 456.76066741,\n",
              "       322.35175906, 267.31112067, 300.00410307, 762.803367  ,\n",
              "       169.28229268, 244.84060143, 279.71540154, 280.76678643,\n",
              "       797.12178297, 153.39243632, 253.75504292, 200.3745842 ,\n",
              "       533.84742672, 280.76680469, 174.07759812, 219.85803733,\n",
              "       457.19567615, 817.08331028, 105.69517364, 314.46387175,\n",
              "       550.61221884, 317.72736672, 600.47134556, 100.59671086,\n",
              "       420.84708132, 335.42122251, 240.90763775, 259.29031222,\n",
              "       181.57104175, 240.17905221, 554.11360406, 363.31237171,\n",
              "       779.18601567, 605.32233926, 590.26159669,  93.63830263,\n",
              "       726.60295881, 332.54733618, 200.7833488 , 280.9248712 ,\n",
              "       741.51561641, 575.83565116, 579.24766482, 319.32035442,\n",
              "       245.29928693, 247.15075673, 595.16351939, 245.99457063,\n",
              "       541.17841142, 197.51604588, 248.00254738, 190.88231127,\n",
              "       224.1959571 , 791.08952715, 217.93705047, 301.09161286,\n",
              "       646.10072089, 262.39382802, 595.90574315, 312.35941116,\n",
              "       316.88613071, 561.71352091, 611.23893548, 720.87042605,\n",
              "       302.07147046, 256.35251823, 577.20242245, 231.12797385,\n",
              "       741.85589133, 313.17227065, 752.23476817, 285.41039707,\n",
              "       563.53993952, 772.14117534, 241.59380611, 273.86824571,\n",
              "       609.61200238, 308.8022628 , 253.36508248, 272.85806068,\n",
              "       351.53403333, 240.26790758, 303.71883412, 244.81767199,\n",
              "       278.15895673, 537.10742765, 230.58293547, 517.98048533,\n",
              "       215.60934993, 300.10886272, 354.93940467, 243.0717885 ,\n",
              "       783.89994365, 298.44556752, 730.47147201, 122.60153969,\n",
              "       294.1923677 , 224.16241523, 261.54400083, 444.15211031,\n",
              "       658.9244348 , 299.5334015 , 252.98214016, 538.24920236,\n",
              "       275.21232961, 279.10104556, 628.57802037,  64.88372304,\n",
              "        64.70179676, 247.15383324, 308.93677121, 136.79915777,\n",
              "       372.70094246, 323.14265349, 811.1657668 , 820.13774252,\n",
              "       266.5316559 , 306.38828315, 264.28364138, 782.76541584,\n",
              "       308.61184232, 447.80403858, 116.15029748,  87.72473765,\n",
              "       585.89112114, 228.82561656, 685.54013183, 446.48511675,\n",
              "       686.62532298, 611.68615627, 213.94665689,  66.45151942,\n",
              "       781.19019373, 303.73019437, 309.48348415, 312.09414521,\n",
              "        57.80580298, 673.49709197, 196.53848763, 118.61116783,\n",
              "       789.58522   ,  60.94787583, 251.32230221, 326.07843452,\n",
              "       810.68485403, 179.03738638, 259.12368058, 752.70942863,\n",
              "       367.49927238, 721.7895537 , 315.76621903, 406.49552145,\n",
              "       255.42659095, 144.6193057 , 292.82673542, 768.29144912,\n",
              "        94.22481908, 165.7187249 , 427.12058759, 579.13054367,\n",
              "       277.48833997, 291.75093463, 158.41004093, 305.92086454,\n",
              "       279.85673479, 312.41844013, 218.02806007, 316.88178373,\n",
              "       587.42880013, 210.5745132 , 366.60660989, 323.63675257,\n",
              "       273.54117316, 333.9885685 , 840.06497562, 322.33029875,\n",
              "       194.99140971, 270.3279506 , 166.8311383 , 245.13315207,\n",
              "       700.86780663, 463.13596809, 608.87913416,  91.02573487,\n",
              "       252.79813059,  62.55151143, 200.6401525 , 254.28742304,\n",
              "       291.37827499, 448.50375953, 208.72458468, 297.68117006,\n",
              "       325.31540981, 417.61744754, 100.93455614, 572.48014867,\n",
              "       101.88108636, 234.03854587, 247.97998212, 573.25481954,\n",
              "       572.9382711 , 306.75772122, 454.79010768, 208.76570929,\n",
              "       304.4919263 , 200.55397031, 247.3873308 , 343.35748044,\n",
              "       225.66337559, 760.10571502, 558.62253565, 668.76007419,\n",
              "       648.1773166 ,  98.98255248, 289.72777075, 309.00376854,\n",
              "       256.01695986, 568.98694986, 291.07902412, 328.47768864,\n",
              "       229.80159647, 410.54983354, 219.7045894 , 566.64154679,\n",
              "       272.08644674, 305.63448621, 342.98149131, 187.71227857,\n",
              "       450.51683942, 123.14999512, 716.88942956, 138.30252373,\n",
              "       571.53603446, 338.86794378, 270.93626445, 546.95855139,\n",
              "       289.53207814, 300.05039496, 315.29268784, 268.04270706,\n",
              "       455.23628895, 240.71850468, 514.29860751, 328.02490909,\n",
              "       147.61635434,  76.34548196, 245.74131382, 762.33065539,\n",
              "        96.17867252, 294.43057083, 266.54973215, 206.35499762,\n",
              "       574.45151725, 211.43345719, 546.27976417, 312.7387306 ,\n",
              "       205.39641175, 240.15230861, 245.66407778, 296.28222463,\n",
              "       270.59471502, 402.03923398, 508.36059932, 308.13093067,\n",
              "       299.7642843 , 579.61761236, 181.15455424, 286.9321166 ,\n",
              "       567.19609397, 310.05515203,  80.89759522, 145.41978366,\n",
              "       675.7497426 , 301.00488484, 227.01991258, 213.64528218,\n",
              "       189.44808969, 599.48066124, 618.40998209, 272.40553969,\n",
              "       519.43655672, 236.23308904, 247.3573173 , 170.55594809,\n",
              "       767.20685975,  98.2415263 , 199.48536718, 351.07376795,\n",
              "       449.31193432, 244.65100015, 351.88609031, 459.7664514 ,\n",
              "       266.97388325, 150.67923848, 207.5262942 , 273.96543582,\n",
              "       291.36739512, 344.51222631, 153.61778258, 695.12612937,\n",
              "        62.80323791, 193.46797558, 552.10219689, 105.4834108 ,\n",
              "       315.85690865, 146.60466871, 270.39665869, 274.7514825 ,\n",
              "       648.41521672, 188.91091877,  93.16152595, 449.62470976,\n",
              "       524.10853461, 438.53948079, 290.36144069, 194.68890843,\n",
              "       315.65759258, 608.21180957, 452.10910957, 463.68008108,\n",
              "       170.67169817, 239.74475839, 786.27523919, 227.12122785,\n",
              "       236.49187712, 312.30624993, 450.83119279, 542.20411413,\n",
              "       214.59284685, 444.46250545, 320.76101105, 301.0543859 ,\n",
              "       272.64031993, 317.36768045, 542.25221259, 282.97752224,\n",
              "       308.15507433, 520.54610816, 306.20351196, 277.68131397,\n",
              "       437.09860646, 349.51447784, 233.9194252 , 590.75653788,\n",
              "       306.01772688, 146.63650731, 255.57009282, 696.80888492,\n",
              "       612.49939751, 147.47015088, 325.69159242, 414.11645017,\n",
              "       404.78134244, 543.47138013, 310.80001377, 183.66962859,\n",
              "       710.83466002, 257.17381755, 323.62282535, 199.38278519,\n",
              "       206.06135831, 588.96507005, 194.06763516, 806.19436211,\n",
              "       332.70998247, 719.66340961, 810.64421162, 443.15907101,\n",
              "       205.19920527, 319.76142591, 197.95965035, 212.42593944,\n",
              "       299.66614376, 308.16604086, 294.8947646 , 339.19562271,\n",
              "       103.86470301, 191.66945078, 101.27851166, 150.14032217,\n",
              "       661.19429932, 307.8345044 , 153.9424145 , 172.65546975,\n",
              "       406.4074102 , 215.6467231 , 301.53637881, 313.28599   ,\n",
              "       347.99362706, 461.78324334, 517.43956176, 218.40318515,\n",
              "       309.2460522 , 214.23749963,  98.30299924, 549.27984213,\n",
              "       577.02251078, 200.26967055,  93.06737528, 207.46348076,\n",
              "       199.30718078, 265.9651379 , 265.79291837,  92.7592849 ,\n",
              "       730.26462119, 238.36880142, 633.36673911, 308.52212417,\n",
              "       244.57780598, 226.76558123, 355.53422016, 166.32202944,\n",
              "       239.1185388 , 152.18481811, 810.85257603, 278.2976873 ,\n",
              "       159.39134325, 301.33452926, 307.81645989, 306.45725736,\n",
              "       547.74717099, 302.22629981, 566.33859864, 245.52492144,\n",
              "       211.24571433, 248.10922477, 308.22490761, 145.68975252,\n",
              "       754.74003665, 281.06757548,  68.55438124, 275.70937251,\n",
              "       333.20518137, 439.99944397, 127.77686445, 299.18163106,\n",
              "       210.61503335, 322.49068885, 540.05936724, 273.71314734,\n",
              "       315.18241805, 239.45302925, 356.16613574, 427.17146697,\n",
              "       191.95375761, 223.40190323, 309.40249728, 776.41180454,\n",
              "       220.59231626, 312.57944618, 361.48430498, 203.00125488,\n",
              "       244.34585969, 188.43497823, 554.82089873, 600.11675136,\n",
              "       275.47895358, 304.34894847, 294.38039541, 413.2292697 ,\n",
              "       268.88454689, 546.46061463, 359.40194786, 230.07849592,\n",
              "       311.79604046, 809.59476714, 152.9586163 , 343.61216194,\n",
              "       449.5007031 , 522.82081769, 260.1187221 , 220.45222144,\n",
              "       278.54591052, 399.95456134, 308.08204747, 277.75971279,\n",
              "       256.15183617, 759.43960186, 238.88755537, 251.32628184,\n",
              "       161.70425278, 290.81750632, 416.04348524, 357.94344096,\n",
              "       393.14550874, 278.07517615, 270.5785062 , 387.09375468,\n",
              "       247.16757217, 748.76948994, 272.42419283, 164.46237744,\n",
              "       260.87931583, 354.05812328, 297.61868576, 365.29394303,\n",
              "       267.07067321,  80.7076154 , 192.23595761, 262.37809411,\n",
              "       272.54542121, 175.03578914, 192.0945379 , 244.53614204,\n",
              "       256.53649469, 304.77284155, 736.73174168, 295.24703779,\n",
              "       249.24113491, 410.03423747, 315.12047256, 161.90560919,\n",
              "       145.36736687, 264.73141732, 353.01647518, 280.24292057,\n",
              "       805.20204208, 557.00779571,  95.41079245, 164.38314118,\n",
              "        63.0686477 ])"
            ]
          },
          "metadata": {
            "tags": []
          },
          "execution_count": 34
        }
      ]
    },
    {
      "cell_type": "code",
      "metadata": {
        "colab": {
          "base_uri": "https://localhost:8080/"
        },
        "id": "tYFXr5N8NZQV",
        "outputId": "79db418e-2b50-4b31-bd7c-392d2a31c489"
      },
      "source": [
        "model.bias"
      ],
      "execution_count": 35,
      "outputs": [
        {
          "output_type": "execute_result",
          "data": {
            "text/plain": [
              "361.35830445499255"
            ]
          },
          "metadata": {
            "tags": []
          },
          "execution_count": 35
        }
      ]
    },
    {
      "cell_type": "code",
      "metadata": {
        "colab": {
          "base_uri": "https://localhost:8080/",
          "height": 495
        },
        "id": "8fWJn65rpD4B",
        "outputId": "7742f15d-e890-4f71-e9bd-1bdeb794e1f1"
      },
      "source": [
        "xs = np.arange(len(model.loss))\n",
        "ys = model.loss\n",
        "\n",
        "plt.plot(xs, ys, lw=3, c='#087E8B')\n",
        "plt.title('Loss per iteration (MSE)', size=20)\n",
        "plt.xlabel('Iteration', size=14)\n",
        "plt.ylabel('Loss', size=14)\n",
        "plt.show()"
      ],
      "execution_count": 26,
      "outputs": [
        {
          "output_type": "display_data",
          "data": {
            "image/png": "[encoded data removed]",
            "text/plain": [
              "<Figure size 1008x504 with 1 Axes>"
            ]
          },
          "metadata": {
            "tags": []
          }
        }
      ]
    },
    {
      "cell_type": "code",
      "metadata": {
        "colab": {
          "base_uri": "https://localhost:8080/",
          "height": 495
        },
        "id": "BRmJipaotseH",
        "outputId": "f0466617-0c3a-4056-e758-28187d9955f9"
      },
      "source": [
        "losses = {}\n",
        "for lr in [0.5, 0.1, 0.01, 0.001]:\n",
        "    model = LinearRegression(learning_rate=lr)\n",
        "    model.fit(X_train, y_train)\n",
        "    losses[f'LR={str(lr)}'] = model.loss\n",
        "    \n",
        "    \n",
        "xs = np.arange(len(model.loss))\n",
        "\n",
        "plt.plot(xs, losses['LR=0.5'], lw=3, label=f\"LR = 0.5, Final = {losses['LR=0.5'][-1]:.2f}\")\n",
        "plt.plot(xs, losses['LR=0.1'], lw=3, label=f\"LR = 0.1, Final = {losses['LR=0.1'][-1]:.2f}\")\n",
        "plt.plot(xs, losses['LR=0.01'], lw=3, label=f\"LR = 0.01, Final = {losses['LR=0.01'][-1]:.2f}\")\n",
        "plt.plot(xs, losses['LR=0.001'], lw=3, label=f\"LR = 0.001, Final = {losses['LR=0.001'][-1]:.2f}\")\n",
        "plt.title('Loss per iteration (MSE) for different learning rates', size=20)\n",
        "plt.xlabel('Iteration', size=14)\n",
        "plt.ylabel('Loss', size=14)\n",
        "plt.legend()\n",
        "plt.show()"
      ],
      "execution_count": 27,
      "outputs": [
        {
          "output_type": "display_data",
          "data": {
            "image/png": "[encoded data removed]",
            "text/plain": [
              "<Figure size 1008x504 with 1 Axes>"
            ]
          },
          "metadata": {
            "tags": []
          }
        }
      ]
    },
    {
      "cell_type": "code",
      "metadata": {
        "colab": {
          "base_uri": "https://localhost:8080/"
        },
        "id": "-BNDzaVLt2eQ",
        "outputId": "d05f4759-e4c3-48ec-f767-1fdee2399e92"
      },
      "source": [
        "model = LinearRegressionscratch(learning_rate=0.5)\n",
        "model.fit(X_train, y_train)\n",
        "preds = model.predict(X_test)\n",
        "\n",
        "model._mean_squared_error(y_test, preds)"
      ],
      "execution_count": 31,
      "outputs": [
        {
          "output_type": "execute_result",
          "data": {
            "text/plain": [
              "1159.5881408531734"
            ]
          },
          "metadata": {
            "tags": []
          },
          "execution_count": 31
        }
      ]
    },
    {
      "cell_type": "code",
      "metadata": {
        "colab": {
          "base_uri": "https://localhost:8080/"
        },
        "id": "YL14PJKot4Pd",
        "outputId": "411ff8e9-3353-410c-88e4-e8d38d21bd7e"
      },
      "source": [
        "from sklearn.linear_model import LinearRegression\n",
        "from sklearn.metrics import mean_squared_error\n",
        "\n",
        "lr_model = LinearRegression()\n",
        "lr_model.fit(X_train, y_train)\n",
        "lr_preds = lr_model.predict(X_test)\n",
        "\n",
        "mean_squared_error(y_test, lr_preds)"
      ],
      "execution_count": 29,
      "outputs": [
        {
          "output_type": "execute_result",
          "data": {
            "text/plain": [
              "1159.5881408531743"
            ]
          },
          "metadata": {
            "tags": []
          },
          "execution_count": 29
        }
      ]
    }
  ]
}
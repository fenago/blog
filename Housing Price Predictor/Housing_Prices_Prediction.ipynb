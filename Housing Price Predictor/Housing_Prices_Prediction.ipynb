{
  "nbformat": 4,
  "nbformat_minor": 0,
  "metadata": {
    "colab": {
      "name": "Housing_Prices_Prediction.ipynb",
      "provenance": []
    },
    "kernelspec": {
      "name": "python3",
      "display_name": "Python 3"
    }
  },
  "cells": [
    {
      "cell_type": "code",
      "metadata": {
        "id": "OKscUdiLELEC"
      },
      "source": [
        "# importing important libraries\r\n",
        "import pandas as pd\r\n",
        "from sklearn import ensemble\r\n",
        "from sklearn.model_selection import train_test_split\r\n",
        "from sklearn.model_selection import GridSearchCV\r\n",
        "from sklearn.metrics import mean_absolute_error\r\n",
        "from sklearn.preprocessing import StandardScaler\r\n",
        "from sklearn.preprocessing import MinMaxScaler\r\n",
        "from sklearn.metrics import precision_recall_fscore_support as score\r\n",
        "from sklearn.metrics import accuracy_score"
      ],
      "execution_count": 43,
      "outputs": []
    },
    {
      "cell_type": "code",
      "metadata": {
        "id": "Gncch22QELlP"
      },
      "source": [
        "# Load the data set\r\n",
        "df = pd.read_csv(\"ml_house_data_set.csv\")"
      ],
      "execution_count": 44,
      "outputs": []
    },
    {
      "cell_type": "code",
      "metadata": {
        "colab": {
          "base_uri": "https://localhost:8080/",
          "height": 284
        },
        "id": "2FDaWwOUUBjw",
        "outputId": "50c78ca5-c98a-4006-813f-c3dc2ec97e35"
      },
      "source": [
        "df.head()"
      ],
      "execution_count": 45,
      "outputs": [
        {
          "output_type": "execute_result",
          "data": {
            "text/html": [
              "<div>\n",
              "<style scoped>\n",
              "    .dataframe tbody tr th:only-of-type {\n",
              "        vertical-align: middle;\n",
              "    }\n",
              "\n",
              "    .dataframe tbody tr th {\n",
              "        vertical-align: top;\n",
              "    }\n",
              "\n",
              "    .dataframe thead th {\n",
              "        text-align: right;\n",
              "    }\n",
              "</style>\n",
              "<table border=\"1\" class=\"dataframe\">\n",
              "  <thead>\n",
              "    <tr style=\"text-align: right;\">\n",
              "      <th></th>\n",
              "      <th>year_built</th>\n",
              "      <th>stories</th>\n",
              "      <th>num_bedrooms</th>\n",
              "      <th>full_bathrooms</th>\n",
              "      <th>half_bathrooms</th>\n",
              "      <th>livable_sqft</th>\n",
              "      <th>total_sqft</th>\n",
              "      <th>garage_type</th>\n",
              "      <th>garage_sqft</th>\n",
              "      <th>carport_sqft</th>\n",
              "      <th>has_fireplace</th>\n",
              "      <th>has_pool</th>\n",
              "      <th>has_central_heating</th>\n",
              "      <th>has_central_cooling</th>\n",
              "      <th>house_number</th>\n",
              "      <th>street_name</th>\n",
              "      <th>unit_number</th>\n",
              "      <th>city</th>\n",
              "      <th>zip_code</th>\n",
              "      <th>sale_price</th>\n",
              "    </tr>\n",
              "  </thead>\n",
              "  <tbody>\n",
              "    <tr>\n",
              "      <th>0</th>\n",
              "      <td>1978</td>\n",
              "      <td>1</td>\n",
              "      <td>4</td>\n",
              "      <td>1</td>\n",
              "      <td>1</td>\n",
              "      <td>1689</td>\n",
              "      <td>1859</td>\n",
              "      <td>attached</td>\n",
              "      <td>508</td>\n",
              "      <td>0</td>\n",
              "      <td>True</td>\n",
              "      <td>False</td>\n",
              "      <td>True</td>\n",
              "      <td>True</td>\n",
              "      <td>42670</td>\n",
              "      <td>Lopez Crossing</td>\n",
              "      <td>NaN</td>\n",
              "      <td>Hallfort</td>\n",
              "      <td>10907</td>\n",
              "      <td>270897.0</td>\n",
              "    </tr>\n",
              "    <tr>\n",
              "      <th>1</th>\n",
              "      <td>1958</td>\n",
              "      <td>1</td>\n",
              "      <td>3</td>\n",
              "      <td>1</td>\n",
              "      <td>1</td>\n",
              "      <td>1984</td>\n",
              "      <td>2002</td>\n",
              "      <td>attached</td>\n",
              "      <td>462</td>\n",
              "      <td>0</td>\n",
              "      <td>True</td>\n",
              "      <td>False</td>\n",
              "      <td>True</td>\n",
              "      <td>True</td>\n",
              "      <td>5194</td>\n",
              "      <td>Gardner Park</td>\n",
              "      <td>NaN</td>\n",
              "      <td>Hallfort</td>\n",
              "      <td>10907</td>\n",
              "      <td>302404.0</td>\n",
              "    </tr>\n",
              "    <tr>\n",
              "      <th>2</th>\n",
              "      <td>2002</td>\n",
              "      <td>1</td>\n",
              "      <td>3</td>\n",
              "      <td>2</td>\n",
              "      <td>0</td>\n",
              "      <td>1581</td>\n",
              "      <td>1578</td>\n",
              "      <td>none</td>\n",
              "      <td>0</td>\n",
              "      <td>625</td>\n",
              "      <td>False</td>\n",
              "      <td>False</td>\n",
              "      <td>True</td>\n",
              "      <td>True</td>\n",
              "      <td>4366</td>\n",
              "      <td>Harding Islands</td>\n",
              "      <td>NaN</td>\n",
              "      <td>Lake Christinaport</td>\n",
              "      <td>11203</td>\n",
              "      <td>2519996.0</td>\n",
              "    </tr>\n",
              "    <tr>\n",
              "      <th>3</th>\n",
              "      <td>2004</td>\n",
              "      <td>1</td>\n",
              "      <td>4</td>\n",
              "      <td>2</td>\n",
              "      <td>0</td>\n",
              "      <td>1829</td>\n",
              "      <td>2277</td>\n",
              "      <td>attached</td>\n",
              "      <td>479</td>\n",
              "      <td>0</td>\n",
              "      <td>True</td>\n",
              "      <td>False</td>\n",
              "      <td>True</td>\n",
              "      <td>True</td>\n",
              "      <td>3302</td>\n",
              "      <td>Michelle Highway</td>\n",
              "      <td>NaN</td>\n",
              "      <td>Lake Christinaport</td>\n",
              "      <td>11203</td>\n",
              "      <td>197193.0</td>\n",
              "    </tr>\n",
              "    <tr>\n",
              "      <th>4</th>\n",
              "      <td>2006</td>\n",
              "      <td>1</td>\n",
              "      <td>4</td>\n",
              "      <td>2</td>\n",
              "      <td>0</td>\n",
              "      <td>1580</td>\n",
              "      <td>1749</td>\n",
              "      <td>attached</td>\n",
              "      <td>430</td>\n",
              "      <td>0</td>\n",
              "      <td>True</td>\n",
              "      <td>False</td>\n",
              "      <td>True</td>\n",
              "      <td>True</td>\n",
              "      <td>582</td>\n",
              "      <td>Jacob Cape</td>\n",
              "      <td>NaN</td>\n",
              "      <td>Lake Christinaport</td>\n",
              "      <td>11203</td>\n",
              "      <td>207897.0</td>\n",
              "    </tr>\n",
              "  </tbody>\n",
              "</table>\n",
              "</div>"
            ],
            "text/plain": [
              "   year_built  stories  num_bedrooms  ...                city  zip_code  sale_price\n",
              "0        1978        1             4  ...            Hallfort     10907    270897.0\n",
              "1        1958        1             3  ...            Hallfort     10907    302404.0\n",
              "2        2002        1             3  ...  Lake Christinaport     11203   2519996.0\n",
              "3        2004        1             4  ...  Lake Christinaport     11203    197193.0\n",
              "4        2006        1             4  ...  Lake Christinaport     11203    207897.0\n",
              "\n",
              "[5 rows x 20 columns]"
            ]
          },
          "metadata": {
            "tags": []
          },
          "execution_count": 45
        }
      ]
    },
    {
      "cell_type": "code",
      "metadata": {
        "colab": {
          "base_uri": "https://localhost:8080/"
        },
        "id": "dB1ZB2MiUGPq",
        "outputId": "f4cf8e11-849e-413a-c086-33b1f42ef885"
      },
      "source": [
        "df.shape"
      ],
      "execution_count": 46,
      "outputs": [
        {
          "output_type": "execute_result",
          "data": {
            "text/plain": [
              "(42703, 20)"
            ]
          },
          "metadata": {
            "tags": []
          },
          "execution_count": 46
        }
      ]
    },
    {
      "cell_type": "code",
      "metadata": {
        "id": "83DbFDm8ELzc"
      },
      "source": [
        "#scaling features (this usualy improves accuracy)\r\n",
        "columnames=df.columns\r\n",
        "scaled_features = df.copy()"
      ],
      "execution_count": 47,
      "outputs": []
    },
    {
      "cell_type": "code",
      "metadata": {
        "id": "beNl96fEfGzx"
      },
      "source": [
        "# selectign features that i think will likely have an effect on predicting price\r\n",
        "col_names = ['year_built', 'stories', 'num_bedrooms', 'full_bathrooms',\r\n",
        "       'half_bathrooms', 'livable_sqft', 'total_sqft',\r\n",
        "       'garage_sqft', 'carport_sqft', 'sale_price']\r\n",
        "features = df[col_names]\r\n",
        "scaler = MinMaxScaler().fit(features.values)\r\n",
        "features = scaler.transform(features.values)\r\n",
        "scaled_features[col_names] = features"
      ],
      "execution_count": 48,
      "outputs": []
    },
    {
      "cell_type": "code",
      "metadata": {
        "id": "LAhCvlKYEL-i"
      },
      "source": [
        "# Remove the fields from the data set that we don't want to include in our model\r\n",
        "del scaled_features['house_number']\r\n",
        "del scaled_features['unit_number']\r\n",
        "del scaled_features['street_name']\r\n",
        "del scaled_features['zip_code']"
      ],
      "execution_count": 49,
      "outputs": []
    },
    {
      "cell_type": "code",
      "metadata": {
        "id": "SY5wsahVEMKT"
      },
      "source": [
        "# Replace categorical data with one-hot encoded data\r\n",
        "features_df = pd.get_dummies(scaled_features, columns=['garage_type', 'city'])"
      ],
      "execution_count": 50,
      "outputs": []
    },
    {
      "cell_type": "code",
      "metadata": {
        "id": "CazhHtnmEhas"
      },
      "source": [
        "# Remove the sale price from the feature data\r\n",
        "del features_df['sale_price']"
      ],
      "execution_count": 51,
      "outputs": []
    },
    {
      "cell_type": "code",
      "metadata": {
        "id": "RujJO-qVEhoY"
      },
      "source": [
        "# Create the X and y arrays\r\n",
        "X = features_df.to_numpy()\r\n",
        "y = scaled_features['sale_price'].to_numpy()"
      ],
      "execution_count": 52,
      "outputs": []
    },
    {
      "cell_type": "code",
      "metadata": {
        "id": "b478H_nxEqRD"
      },
      "source": [
        "# Split the data set in a training set (70%) and a test set (30%)\r\n",
        "X_train, X_test, y_train, y_test = train_test_split(X, y, test_size=0.3, random_state=0)"
      ],
      "execution_count": 53,
      "outputs": []
    },
    {
      "cell_type": "code",
      "metadata": {
        "id": "CREldPxmErD4"
      },
      "source": [
        "# Choosing the model we intend to use\r\n",
        "model = ensemble.GradientBoostingRegressor()"
      ],
      "execution_count": 54,
      "outputs": []
    },
    {
      "cell_type": "code",
      "metadata": {
        "colab": {
          "base_uri": "https://localhost:8080/"
        },
        "id": "DdIzg3lLFGTW",
        "outputId": "750ce46c-a277-43c3-c1ac-76ab212e61b1"
      },
      "source": [
        "model.fit(X_train, y_train)"
      ],
      "execution_count": 55,
      "outputs": [
        {
          "output_type": "execute_result",
          "data": {
            "text/plain": [
              "GradientBoostingRegressor(alpha=0.9, ccp_alpha=0.0, criterion='friedman_mse',\n",
              "                          init=None, learning_rate=0.1, loss='ls', max_depth=3,\n",
              "                          max_features=None, max_leaf_nodes=None,\n",
              "                          min_impurity_decrease=0.0, min_impurity_split=None,\n",
              "                          min_samples_leaf=1, min_samples_split=2,\n",
              "                          min_weight_fraction_leaf=0.0, n_estimators=100,\n",
              "                          n_iter_no_change=None, presort='deprecated',\n",
              "                          random_state=None, subsample=1.0, tol=0.0001,\n",
              "                          validation_fraction=0.1, verbose=0, warm_start=False)"
            ]
          },
          "metadata": {
            "tags": []
          },
          "execution_count": 55
        }
      ]
    },
    {
      "cell_type": "code",
      "metadata": {
        "colab": {
          "base_uri": "https://localhost:8080/"
        },
        "id": "bsQxlYytFGcr",
        "outputId": "f2da8c1b-4cfa-4630-acff-a993ba7c974b"
      },
      "source": [
        "# Find the error rate on the training set\r\n",
        "mse = mean_absolute_error(y_train, model.predict(X_train))\r\n",
        "print(\"Training Set Mean Absolute Error: %.4f\" % mse)"
      ],
      "execution_count": 56,
      "outputs": [
        {
          "output_type": "stream",
          "text": [
            "Training Set Mean Absolute Error: 0.0034\n"
          ],
          "name": "stdout"
        }
      ]
    },
    {
      "cell_type": "code",
      "metadata": {
        "colab": {
          "base_uri": "https://localhost:8080/"
        },
        "id": "IOqcWhFSFGnk",
        "outputId": "0a0a05fc-ac0a-42c2-e4dd-dd9a818b789c"
      },
      "source": [
        "# Find the error rate on the test set\r\n",
        "mse = mean_absolute_error(y_test, model.predict(X_test))\r\n",
        "print(\"Test Set Mean Absolute Error: %.4f\" % mse)"
      ],
      "execution_count": 57,
      "outputs": [
        {
          "output_type": "stream",
          "text": [
            "Test Set Mean Absolute Error: 0.0035\n"
          ],
          "name": "stdout"
        }
      ]
    }
  ]
}
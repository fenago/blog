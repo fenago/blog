{
  "nbformat": 4,
  "nbformat_minor": 0,
  "metadata": {
    "kernelspec": {
      "display_name": "Python 3",
      "language": "python",
      "name": "python3"
    },
    "language_info": {
      "codemirror_mode": {
        "name": "ipython",
        "version": 3
      },
      "file_extension": ".py",
      "mimetype": "text/x-python",
      "name": "python",
      "nbconvert_exporter": "python",
      "pygments_lexer": "ipython3",
      "version": "3.8.5"
    },
    "colab": {
      "name": "Collaborative Filtering.ipynb",
      "provenance": [],
      "collapsed_sections": []
    }
  },
  "cells": [
    {
      "cell_type": "markdown",
      "metadata": {
        "id": "wuoXCKcEJjs_"
      },
      "source": [
        "# Building a Collaborative-Filtering Recommendation system for recommending classes to students"
      ]
    },
    {
      "cell_type": "markdown",
      "metadata": {
        "id": "u1APlZSTJjtC"
      },
      "source": [
        "## In this article, we will build a collaborative-filtering recommendation system that will use the ratings from similar users recommend them, various classes."
      ]
    },
    {
      "cell_type": "markdown",
      "metadata": {
        "id": "u2-nq_DMJjtN"
      },
      "source": [
        "A Recommendation System, in simpler terms, is basically a filtering system that aims to predict a rating or preference that a user would give to a particular item, which in our case are classes.\r\n",
        "\r\n"
      ]
    },
    {
      "cell_type": "markdown",
      "metadata": {
        "id": "DQCKMf0JJjtO"
      },
      "source": [
        "![title](main.png)"
      ]
    },
    {
      "cell_type": "markdown",
      "metadata": {
        "id": "UL6RcGWyJjtO"
      },
      "source": [
        "There are various types of algorithms used in building Recommendation systems such as Rank Based, Content-Based, Collaborative Filtering, Matrix Factorization, and many more. Content-Based and Collaborative Filtering are the most common ones among these. In this article, we will look into collaborative filtering to recommend classes to the students."
      ]
    },
    {
      "cell_type": "markdown",
      "metadata": {
        "id": "oPsE6Cl7JjtP"
      },
      "source": [
        "## Exploratory Data Analysis"
      ]
    },
    {
      "cell_type": "markdown",
      "metadata": {
        "id": "cWxNaZYHJjtP"
      },
      "source": [
        "First, let's create a dummy dataset."
      ]
    },
    {
      "cell_type": "code",
      "metadata": {
        "id": "OCiX-AtqJjtQ"
      },
      "source": [
        "import pandas as pd\n",
        "import numpy as np\n",
        "import matplotlib.pyplot as plt\n",
        "import random\n",
        "\n",
        "users_df = pd.DataFrame(columns=['User ID', 'Class ID', 'Rating'])\n",
        "\n",
        "user_ids = list(range(30))\n",
        "class_ids = list(range(30))\n",
        "\n",
        "for user_id in user_ids:\n",
        "    for class_id in class_ids:\n",
        "        if_rating = random.randint(0, 1)\n",
        "        if(if_rating):\n",
        "            rating = random.randint(1, 10)\n",
        "        else:\n",
        "            rating = 0\n",
        "        series = [user_id, class_id, rating]\n",
        "        users_df.loc[len(users_df)] = series"
      ],
      "execution_count": null,
      "outputs": []
    },
    {
      "cell_type": "code",
      "metadata": {
        "id": "SjiyKc_NJjtQ",
        "outputId": "c1682ca5-088f-4ea3-8424-1dc4c4144ae6"
      },
      "source": [
        "users_df"
      ],
      "execution_count": null,
      "outputs": [
        {
          "output_type": "execute_result",
          "data": {
            "text/html": [
              "<div>\n",
              "<style scoped>\n",
              "    .dataframe tbody tr th:only-of-type {\n",
              "        vertical-align: middle;\n",
              "    }\n",
              "\n",
              "    .dataframe tbody tr th {\n",
              "        vertical-align: top;\n",
              "    }\n",
              "\n",
              "    .dataframe thead th {\n",
              "        text-align: right;\n",
              "    }\n",
              "</style>\n",
              "<table border=\"1\" class=\"dataframe\">\n",
              "  <thead>\n",
              "    <tr style=\"text-align: right;\">\n",
              "      <th></th>\n",
              "      <th>User ID</th>\n",
              "      <th>Class ID</th>\n",
              "      <th>Rating</th>\n",
              "    </tr>\n",
              "  </thead>\n",
              "  <tbody>\n",
              "    <tr>\n",
              "      <th>0</th>\n",
              "      <td>0</td>\n",
              "      <td>0</td>\n",
              "      <td>0</td>\n",
              "    </tr>\n",
              "    <tr>\n",
              "      <th>1</th>\n",
              "      <td>0</td>\n",
              "      <td>1</td>\n",
              "      <td>0</td>\n",
              "    </tr>\n",
              "    <tr>\n",
              "      <th>2</th>\n",
              "      <td>0</td>\n",
              "      <td>2</td>\n",
              "      <td>10</td>\n",
              "    </tr>\n",
              "    <tr>\n",
              "      <th>3</th>\n",
              "      <td>0</td>\n",
              "      <td>3</td>\n",
              "      <td>3</td>\n",
              "    </tr>\n",
              "    <tr>\n",
              "      <th>4</th>\n",
              "      <td>0</td>\n",
              "      <td>4</td>\n",
              "      <td>0</td>\n",
              "    </tr>\n",
              "    <tr>\n",
              "      <th>...</th>\n",
              "      <td>...</td>\n",
              "      <td>...</td>\n",
              "      <td>...</td>\n",
              "    </tr>\n",
              "    <tr>\n",
              "      <th>895</th>\n",
              "      <td>29</td>\n",
              "      <td>25</td>\n",
              "      <td>0</td>\n",
              "    </tr>\n",
              "    <tr>\n",
              "      <th>896</th>\n",
              "      <td>29</td>\n",
              "      <td>26</td>\n",
              "      <td>0</td>\n",
              "    </tr>\n",
              "    <tr>\n",
              "      <th>897</th>\n",
              "      <td>29</td>\n",
              "      <td>27</td>\n",
              "      <td>3</td>\n",
              "    </tr>\n",
              "    <tr>\n",
              "      <th>898</th>\n",
              "      <td>29</td>\n",
              "      <td>28</td>\n",
              "      <td>0</td>\n",
              "    </tr>\n",
              "    <tr>\n",
              "      <th>899</th>\n",
              "      <td>29</td>\n",
              "      <td>29</td>\n",
              "      <td>8</td>\n",
              "    </tr>\n",
              "  </tbody>\n",
              "</table>\n",
              "<p>900 rows × 3 columns</p>\n",
              "</div>"
            ],
            "text/plain": [
              "    User ID Class ID Rating\n",
              "0         0        0      0\n",
              "1         0        1      0\n",
              "2         0        2     10\n",
              "3         0        3      3\n",
              "4         0        4      0\n",
              "..      ...      ...    ...\n",
              "895      29       25      0\n",
              "896      29       26      0\n",
              "897      29       27      3\n",
              "898      29       28      0\n",
              "899      29       29      8\n",
              "\n",
              "[900 rows x 3 columns]"
            ]
          },
          "metadata": {
            "tags": []
          },
          "execution_count": 9
        }
      ]
    },
    {
      "cell_type": "markdown",
      "metadata": {
        "id": "ZcGSwcb2JjtR"
      },
      "source": [
        "Let's first start by conducting EDA on our data to get a better understanding of what we are dealing with.\n",
        "\n",
        "Here we have two separate dataframes. The first dataframe contains the rating a user gave to a class. The rating varies from 1–10 and 0 shows that the user hasn't attended that class. The other dataframe just contains the class ids that we have. We have 30 users and classes, thus a total of 900 rows in the dataframe."
      ]
    },
    {
      "cell_type": "markdown",
      "metadata": {
        "id": "uvQd3WzSJjtS"
      },
      "source": [
        "Let's group the data by ratings and see the average ratings that the users give. We will use the following data for that."
      ]
    },
    {
      "cell_type": "code",
      "metadata": {
        "id": "P-roj2EbJjtT",
        "outputId": "67a16a06-c271-410c-bf05-28bc5f31d2b0"
      },
      "source": [
        "def plot_ratings(df):\n",
        "    actual_ratings = df[users_df['Rating'] != 0]\n",
        "    count_ratings = actual_ratings.groupby('Rating').count()['User ID']\n",
        "    count_ratings.plot.bar()\n",
        "    \n",
        "plot_ratings(users_df)"
      ],
      "execution_count": null,
      "outputs": [
        {
          "output_type": "display_data",
          "data": {
            "image/png": "[encoded data removed]",
            "text/plain": [
              "<Figure size 432x288 with 1 Axes>"
            ]
          },
          "metadata": {
            "tags": [],
            "needs_background": "light"
          }
        }
      ]
    },
    {
      "cell_type": "markdown",
      "metadata": {
        "id": "8Rhse-ftJjtT"
      },
      "source": [
        "## User-Based Collaborative Filtering"
      ]
    },
    {
      "cell_type": "markdown",
      "metadata": {
        "id": "izpVeg3qJjtU"
      },
      "source": [
        "There are different types of collaborative filtering algorithms, mainly item-based and user-based. In this article, we are going to be using user-based collaborative filtering.\n",
        "\n",
        "User-Based Collaborative filtering basically utilizes the assumption that generally, people with similar characteristics share similar interests. In our case, it would mean that if two students have highly rated similar classes in the past, we can recommend them classes that are highly rated by one student to the other as it makes sense that they will highly rate those classes in the future as well.\n",
        "\n"
      ]
    },
    {
      "cell_type": "markdown",
      "metadata": {
        "id": "13O3pp4uJjtU"
      },
      "source": [
        "### Creating User Item Matrix\n"
      ]
    },
    {
      "cell_type": "markdown",
      "metadata": {
        "id": "n3mvmAInJjtU"
      },
      "source": [
        "\n",
        "For this, we will first create a user-item matrix (in our case student-class) where the rows and columns will be the student and class ids respectively. If a student has given a class a rating, we will place ‘the rating’ there and ‘0’ if they have not.\n",
        "\n"
      ]
    },
    {
      "cell_type": "code",
      "metadata": {
        "id": "x0-6z3HTJjtV"
      },
      "source": [
        "def create_user_item_matrix(df):\n",
        "    user_item = users_df.groupby(['User ID', 'Class ID'])['Rating'].unique().unstack()\n",
        "    \n",
        "    #to convert list to integer ratings\n",
        "    for i in range(30):\n",
        "        for j in range(30):\n",
        "            user_item[i][j] = user_item[i][j][0]\n",
        "    \n",
        "    return user_item # return the user_item matrix \n",
        "\n",
        "user_item = create_user_item_matrix(users_df)"
      ],
      "execution_count": null,
      "outputs": []
    },
    {
      "cell_type": "code",
      "metadata": {
        "id": "OIILwlZRJjtV",
        "outputId": "5cdfa47b-0064-4cb7-faec-4c9caaaeb67f"
      },
      "source": [
        "user_item.head()"
      ],
      "execution_count": null,
      "outputs": [
        {
          "output_type": "execute_result",
          "data": {
            "text/html": [
              "<div>\n",
              "<style scoped>\n",
              "    .dataframe tbody tr th:only-of-type {\n",
              "        vertical-align: middle;\n",
              "    }\n",
              "\n",
              "    .dataframe tbody tr th {\n",
              "        vertical-align: top;\n",
              "    }\n",
              "\n",
              "    .dataframe thead th {\n",
              "        text-align: right;\n",
              "    }\n",
              "</style>\n",
              "<table border=\"1\" class=\"dataframe\">\n",
              "  <thead>\n",
              "    <tr style=\"text-align: right;\">\n",
              "      <th>Class ID</th>\n",
              "      <th>0</th>\n",
              "      <th>1</th>\n",
              "      <th>2</th>\n",
              "      <th>3</th>\n",
              "      <th>4</th>\n",
              "      <th>5</th>\n",
              "      <th>6</th>\n",
              "      <th>7</th>\n",
              "      <th>8</th>\n",
              "      <th>9</th>\n",
              "      <th>...</th>\n",
              "      <th>20</th>\n",
              "      <th>21</th>\n",
              "      <th>22</th>\n",
              "      <th>23</th>\n",
              "      <th>24</th>\n",
              "      <th>25</th>\n",
              "      <th>26</th>\n",
              "      <th>27</th>\n",
              "      <th>28</th>\n",
              "      <th>29</th>\n",
              "    </tr>\n",
              "    <tr>\n",
              "      <th>User ID</th>\n",
              "      <th></th>\n",
              "      <th></th>\n",
              "      <th></th>\n",
              "      <th></th>\n",
              "      <th></th>\n",
              "      <th></th>\n",
              "      <th></th>\n",
              "      <th></th>\n",
              "      <th></th>\n",
              "      <th></th>\n",
              "      <th></th>\n",
              "      <th></th>\n",
              "      <th></th>\n",
              "      <th></th>\n",
              "      <th></th>\n",
              "      <th></th>\n",
              "      <th></th>\n",
              "      <th></th>\n",
              "      <th></th>\n",
              "      <th></th>\n",
              "      <th></th>\n",
              "    </tr>\n",
              "  </thead>\n",
              "  <tbody>\n",
              "    <tr>\n",
              "      <th>0</th>\n",
              "      <td>0</td>\n",
              "      <td>0</td>\n",
              "      <td>10</td>\n",
              "      <td>3</td>\n",
              "      <td>0</td>\n",
              "      <td>0</td>\n",
              "      <td>8</td>\n",
              "      <td>0</td>\n",
              "      <td>1</td>\n",
              "      <td>9</td>\n",
              "      <td>...</td>\n",
              "      <td>0</td>\n",
              "      <td>6</td>\n",
              "      <td>5</td>\n",
              "      <td>0</td>\n",
              "      <td>0</td>\n",
              "      <td>0</td>\n",
              "      <td>2</td>\n",
              "      <td>0</td>\n",
              "      <td>4</td>\n",
              "      <td>1</td>\n",
              "    </tr>\n",
              "    <tr>\n",
              "      <th>1</th>\n",
              "      <td>0</td>\n",
              "      <td>5</td>\n",
              "      <td>0</td>\n",
              "      <td>2</td>\n",
              "      <td>4</td>\n",
              "      <td>0</td>\n",
              "      <td>0</td>\n",
              "      <td>2</td>\n",
              "      <td>0</td>\n",
              "      <td>0</td>\n",
              "      <td>...</td>\n",
              "      <td>6</td>\n",
              "      <td>0</td>\n",
              "      <td>1</td>\n",
              "      <td>0</td>\n",
              "      <td>7</td>\n",
              "      <td>9</td>\n",
              "      <td>0</td>\n",
              "      <td>10</td>\n",
              "      <td>3</td>\n",
              "      <td>3</td>\n",
              "    </tr>\n",
              "    <tr>\n",
              "      <th>2</th>\n",
              "      <td>0</td>\n",
              "      <td>3</td>\n",
              "      <td>0</td>\n",
              "      <td>2</td>\n",
              "      <td>5</td>\n",
              "      <td>10</td>\n",
              "      <td>6</td>\n",
              "      <td>2</td>\n",
              "      <td>1</td>\n",
              "      <td>0</td>\n",
              "      <td>...</td>\n",
              "      <td>3</td>\n",
              "      <td>3</td>\n",
              "      <td>0</td>\n",
              "      <td>9</td>\n",
              "      <td>2</td>\n",
              "      <td>8</td>\n",
              "      <td>5</td>\n",
              "      <td>0</td>\n",
              "      <td>4</td>\n",
              "      <td>0</td>\n",
              "    </tr>\n",
              "    <tr>\n",
              "      <th>3</th>\n",
              "      <td>0</td>\n",
              "      <td>2</td>\n",
              "      <td>0</td>\n",
              "      <td>4</td>\n",
              "      <td>0</td>\n",
              "      <td>0</td>\n",
              "      <td>0</td>\n",
              "      <td>0</td>\n",
              "      <td>5</td>\n",
              "      <td>0</td>\n",
              "      <td>...</td>\n",
              "      <td>0</td>\n",
              "      <td>0</td>\n",
              "      <td>0</td>\n",
              "      <td>3</td>\n",
              "      <td>0</td>\n",
              "      <td>9</td>\n",
              "      <td>0</td>\n",
              "      <td>4</td>\n",
              "      <td>0</td>\n",
              "      <td>2</td>\n",
              "    </tr>\n",
              "    <tr>\n",
              "      <th>4</th>\n",
              "      <td>2</td>\n",
              "      <td>4</td>\n",
              "      <td>0</td>\n",
              "      <td>0</td>\n",
              "      <td>0</td>\n",
              "      <td>9</td>\n",
              "      <td>8</td>\n",
              "      <td>3</td>\n",
              "      <td>3</td>\n",
              "      <td>0</td>\n",
              "      <td>...</td>\n",
              "      <td>7</td>\n",
              "      <td>8</td>\n",
              "      <td>5</td>\n",
              "      <td>0</td>\n",
              "      <td>8</td>\n",
              "      <td>1</td>\n",
              "      <td>0</td>\n",
              "      <td>8</td>\n",
              "      <td>7</td>\n",
              "      <td>0</td>\n",
              "    </tr>\n",
              "  </tbody>\n",
              "</table>\n",
              "<p>5 rows × 30 columns</p>\n",
              "</div>"
            ],
            "text/plain": [
              "Class ID 0  1   2  3  4   5  6  7  8  9   ... 20 21 22 23 24 25 26  27 28 29\n",
              "User ID                                   ...                               \n",
              "0         0  0  10  3  0   0  8  0  1  9  ...  0  6  5  0  0  0  2   0  4  1\n",
              "1         0  5   0  2  4   0  0  2  0  0  ...  6  0  1  0  7  9  0  10  3  3\n",
              "2         0  3   0  2  5  10  6  2  1  0  ...  3  3  0  9  2  8  5   0  4  0\n",
              "3         0  2   0  4  0   0  0  0  5  0  ...  0  0  0  3  0  9  0   4  0  2\n",
              "4         2  4   0  0  0   9  8  3  3  0  ...  7  8  5  0  8  1  0   8  7  0\n",
              "\n",
              "[5 rows x 30 columns]"
            ]
          },
          "metadata": {
            "tags": []
          },
          "execution_count": 21
        }
      ]
    },
    {
      "cell_type": "markdown",
      "metadata": {
        "id": "SpwV52WlJjtW"
      },
      "source": [
        "### Get Classes attended by Users"
      ]
    },
    {
      "cell_type": "markdown",
      "metadata": {
        "id": "s72a6ZUTJjtW"
      },
      "source": [
        "Now, we will write a function that will return the classes attended by a user and sort them by the ratings. We do this because after getting similar users, we will recommend the classes attended by the most similar user with the highest rating to that particular user."
      ]
    },
    {
      "cell_type": "code",
      "metadata": {
        "id": "SGvOCm6iJjtW"
      },
      "source": [
        "def get_classes_attended_by_user(user_id, df):\n",
        "    attended_df = df[(df['User ID'] == user_id) & (df['Rating'] != 0)]\n",
        "    return list(attended_df.sort_values(by='Rating', ascending=False)['Class ID'])"
      ],
      "execution_count": null,
      "outputs": []
    },
    {
      "cell_type": "markdown",
      "metadata": {
        "id": "00nhcPU3JjtW"
      },
      "source": [
        "### Getting Similar Users"
      ]
    },
    {
      "cell_type": "markdown",
      "metadata": {
        "id": "AJWmUJ-aJjtX"
      },
      "source": [
        "Now we will work on getting users similar to a particular user. This is done by comparing the ratings given by the two users to a class attended by both of them. We will calculate the total ratings and return the users with the highest total ratings."
      ]
    },
    {
      "cell_type": "code",
      "metadata": {
        "id": "SC4kl93XJjtX"
      },
      "source": [
        "def get_similar_users(user_id, df):\n",
        "    similar_users = user_item.dot(user_item[user_item.index == user_id].T)\n",
        "    user_interactions  = users_df[users_df['Rating'] != 0].groupby('User ID', sort=False).count()['Class ID']\n",
        "    neighbors_df = pd.merge(similar_users, user_interactions, how='left', left_index=True, right_index=True)\n",
        "    neighbors_df = neighbors_df.reset_index()\n",
        "    neighbors_df.columns = ['neighbor_id', 'similarity','interactions']\n",
        "    neighbors_df = neighbors_df.sort_values(['similarity','interactions'],ascending=False)\n",
        "    \n",
        "    return neighbors_df"
      ],
      "execution_count": null,
      "outputs": []
    },
    {
      "cell_type": "markdown",
      "metadata": {
        "id": "4-f_AfoPJjtX"
      },
      "source": [
        "There's a lot going on in this function. Let's break it down a bit:\n",
        "\n",
        "1. It starts with computing the dot product of the user with `user_id` with all other users. Higher dot product means that the users gave similar high ratings to the same classes.\n",
        "2. `user_interactions` contain data regarding the number of classes each user has attended.\n",
        "3. We merge the `similar_users` with `user_interactions` and sort it first by the similarity and if its same, then use the one with more interactions.\n",
        "\n",
        "This is what we get when we run this function for `user_id` 1:"
      ]
    },
    {
      "cell_type": "code",
      "metadata": {
        "id": "sdKNpFIrJjtY",
        "outputId": "d6b98358-36e3-40b1-a188-9a563fd08e8f"
      },
      "source": [
        "get_similar_users(1, users_df)"
      ],
      "execution_count": null,
      "outputs": [
        {
          "output_type": "execute_result",
          "data": {
            "text/html": [
              "<div>\n",
              "<style scoped>\n",
              "    .dataframe tbody tr th:only-of-type {\n",
              "        vertical-align: middle;\n",
              "    }\n",
              "\n",
              "    .dataframe tbody tr th {\n",
              "        vertical-align: top;\n",
              "    }\n",
              "\n",
              "    .dataframe thead th {\n",
              "        text-align: right;\n",
              "    }\n",
              "</style>\n",
              "<table border=\"1\" class=\"dataframe\">\n",
              "  <thead>\n",
              "    <tr style=\"text-align: right;\">\n",
              "      <th></th>\n",
              "      <th>neighbor_id</th>\n",
              "      <th>similarity</th>\n",
              "      <th>interactions</th>\n",
              "    </tr>\n",
              "  </thead>\n",
              "  <tbody>\n",
              "    <tr>\n",
              "      <th>1</th>\n",
              "      <td>1</td>\n",
              "      <td>403</td>\n",
              "      <td>14</td>\n",
              "    </tr>\n",
              "    <tr>\n",
              "      <th>19</th>\n",
              "      <td>19</td>\n",
              "      <td>309</td>\n",
              "      <td>18</td>\n",
              "    </tr>\n",
              "    <tr>\n",
              "      <th>16</th>\n",
              "      <td>16</td>\n",
              "      <td>301</td>\n",
              "      <td>20</td>\n",
              "    </tr>\n",
              "    <tr>\n",
              "      <th>13</th>\n",
              "      <td>13</td>\n",
              "      <td>298</td>\n",
              "      <td>14</td>\n",
              "    </tr>\n",
              "    <tr>\n",
              "      <th>18</th>\n",
              "      <td>18</td>\n",
              "      <td>287</td>\n",
              "      <td>15</td>\n",
              "    </tr>\n",
              "    <tr>\n",
              "      <th>4</th>\n",
              "      <td>4</td>\n",
              "      <td>273</td>\n",
              "      <td>17</td>\n",
              "    </tr>\n",
              "    <tr>\n",
              "      <th>14</th>\n",
              "      <td>14</td>\n",
              "      <td>261</td>\n",
              "      <td>16</td>\n",
              "    </tr>\n",
              "    <tr>\n",
              "      <th>12</th>\n",
              "      <td>12</td>\n",
              "      <td>245</td>\n",
              "      <td>18</td>\n",
              "    </tr>\n",
              "    <tr>\n",
              "      <th>10</th>\n",
              "      <td>10</td>\n",
              "      <td>236</td>\n",
              "      <td>19</td>\n",
              "    </tr>\n",
              "    <tr>\n",
              "      <th>9</th>\n",
              "      <td>9</td>\n",
              "      <td>236</td>\n",
              "      <td>14</td>\n",
              "    </tr>\n",
              "    <tr>\n",
              "      <th>6</th>\n",
              "      <td>6</td>\n",
              "      <td>235</td>\n",
              "      <td>18</td>\n",
              "    </tr>\n",
              "    <tr>\n",
              "      <th>2</th>\n",
              "      <td>2</td>\n",
              "      <td>224</td>\n",
              "      <td>22</td>\n",
              "    </tr>\n",
              "    <tr>\n",
              "      <th>27</th>\n",
              "      <td>27</td>\n",
              "      <td>223</td>\n",
              "      <td>15</td>\n",
              "    </tr>\n",
              "    <tr>\n",
              "      <th>24</th>\n",
              "      <td>24</td>\n",
              "      <td>202</td>\n",
              "      <td>21</td>\n",
              "    </tr>\n",
              "    <tr>\n",
              "      <th>11</th>\n",
              "      <td>11</td>\n",
              "      <td>200</td>\n",
              "      <td>16</td>\n",
              "    </tr>\n",
              "    <tr>\n",
              "      <th>29</th>\n",
              "      <td>29</td>\n",
              "      <td>194</td>\n",
              "      <td>16</td>\n",
              "    </tr>\n",
              "    <tr>\n",
              "      <th>21</th>\n",
              "      <td>21</td>\n",
              "      <td>178</td>\n",
              "      <td>18</td>\n",
              "    </tr>\n",
              "    <tr>\n",
              "      <th>23</th>\n",
              "      <td>23</td>\n",
              "      <td>172</td>\n",
              "      <td>14</td>\n",
              "    </tr>\n",
              "    <tr>\n",
              "      <th>8</th>\n",
              "      <td>8</td>\n",
              "      <td>156</td>\n",
              "      <td>14</td>\n",
              "    </tr>\n",
              "    <tr>\n",
              "      <th>3</th>\n",
              "      <td>3</td>\n",
              "      <td>149</td>\n",
              "      <td>13</td>\n",
              "    </tr>\n",
              "    <tr>\n",
              "      <th>5</th>\n",
              "      <td>5</td>\n",
              "      <td>146</td>\n",
              "      <td>17</td>\n",
              "    </tr>\n",
              "    <tr>\n",
              "      <th>17</th>\n",
              "      <td>17</td>\n",
              "      <td>136</td>\n",
              "      <td>17</td>\n",
              "    </tr>\n",
              "    <tr>\n",
              "      <th>25</th>\n",
              "      <td>25</td>\n",
              "      <td>125</td>\n",
              "      <td>13</td>\n",
              "    </tr>\n",
              "    <tr>\n",
              "      <th>15</th>\n",
              "      <td>15</td>\n",
              "      <td>125</td>\n",
              "      <td>12</td>\n",
              "    </tr>\n",
              "    <tr>\n",
              "      <th>20</th>\n",
              "      <td>20</td>\n",
              "      <td>120</td>\n",
              "      <td>19</td>\n",
              "    </tr>\n",
              "    <tr>\n",
              "      <th>26</th>\n",
              "      <td>26</td>\n",
              "      <td>117</td>\n",
              "      <td>15</td>\n",
              "    </tr>\n",
              "    <tr>\n",
              "      <th>0</th>\n",
              "      <td>0</td>\n",
              "      <td>108</td>\n",
              "      <td>17</td>\n",
              "    </tr>\n",
              "    <tr>\n",
              "      <th>28</th>\n",
              "      <td>28</td>\n",
              "      <td>98</td>\n",
              "      <td>14</td>\n",
              "    </tr>\n",
              "    <tr>\n",
              "      <th>7</th>\n",
              "      <td>7</td>\n",
              "      <td>81</td>\n",
              "      <td>13</td>\n",
              "    </tr>\n",
              "    <tr>\n",
              "      <th>22</th>\n",
              "      <td>22</td>\n",
              "      <td>59</td>\n",
              "      <td>17</td>\n",
              "    </tr>\n",
              "  </tbody>\n",
              "</table>\n",
              "</div>"
            ],
            "text/plain": [
              "    neighbor_id similarity  interactions\n",
              "1             1        403            14\n",
              "19           19        309            18\n",
              "16           16        301            20\n",
              "13           13        298            14\n",
              "18           18        287            15\n",
              "4             4        273            17\n",
              "14           14        261            16\n",
              "12           12        245            18\n",
              "10           10        236            19\n",
              "9             9        236            14\n",
              "6             6        235            18\n",
              "2             2        224            22\n",
              "27           27        223            15\n",
              "24           24        202            21\n",
              "11           11        200            16\n",
              "29           29        194            16\n",
              "21           21        178            18\n",
              "23           23        172            14\n",
              "8             8        156            14\n",
              "3             3        149            13\n",
              "5             5        146            17\n",
              "17           17        136            17\n",
              "25           25        125            13\n",
              "15           15        125            12\n",
              "20           20        120            19\n",
              "26           26        117            15\n",
              "0             0        108            17\n",
              "28           28         98            14\n",
              "7             7         81            13\n",
              "22           22         59            17"
            ]
          },
          "metadata": {
            "tags": []
          },
          "execution_count": 24
        }
      ]
    },
    {
      "cell_type": "markdown",
      "metadata": {
        "id": "HENa1jOGJjtY"
      },
      "source": [
        "### Providing Recommendations"
      ]
    },
    {
      "cell_type": "markdown",
      "metadata": {
        "id": "PT-JIgv5JjtY"
      },
      "source": [
        "Finally, we will combine all of this to recommend classes to users."
      ]
    },
    {
      "cell_type": "code",
      "metadata": {
        "id": "Pff-HPMYJjtY"
      },
      "source": [
        "def user_recs(user_id, n_recs=10):\n",
        "  \n",
        "    recs = []\n",
        "    neighbors_df = get_similar_users(user_id, users_df)\n",
        "    neighbor_user_ids = neighbors_df['neighbor_id'].values\n",
        "    classes_attended_user = get_classes_attended_by_user(user_id, users_df)\n",
        "    for neighbor_id in neighbor_user_ids:\n",
        "        classes_attended_other = get_classes_attended_by_user(neighbor_id, users_df)\n",
        "        new_recs = np.setdiff1d(classes_attended_other, classes_attended_user)\n",
        "        recs = np.unique(np.concatenate([new_recs, recs], axis=0))\n",
        "# If we have enough recommendations exit the loop\n",
        "        if len(recs) > n_recs-1:\n",
        "            recs = recs[:n_recs]\n",
        "            break\n",
        "    return recs\n",
        "\n"
      ],
      "execution_count": null,
      "outputs": []
    },
    {
      "cell_type": "markdown",
      "metadata": {
        "id": "TEqwdcR_JjtZ"
      },
      "source": [
        "The function executes as follows:\n",
        "\n",
        "1.\tWe get the most similar users based on ratings on classes using the function get_similar_users\n",
        "2.\tWe get the classes attended by the current user.\n",
        "3.\tWe iterate through the ids of similar users and append the classes not yet attended by the current user to the total recommendations.\n",
        "4.\tIf we reach the number of recommendations we want, we exit the loop\n",
        "\n",
        "Let's test this function:\n"
      ]
    },
    {
      "cell_type": "code",
      "metadata": {
        "id": "RNOMqD9_JjtZ",
        "outputId": "43eedc5e-b81e-4703-b054-1d2adb834666"
      },
      "source": [
        "user_recs(1)"
      ],
      "execution_count": null,
      "outputs": [
        {
          "output_type": "execute_result",
          "data": {
            "text/plain": [
              "array([ 0.,  2.,  5.,  6.,  8.,  9., 10., 11., 12., 16.])"
            ]
          },
          "metadata": {
            "tags": []
          },
          "execution_count": 26
        }
      ]
    },
    {
      "cell_type": "code",
      "metadata": {
        "id": "ADqbnZ8fJjta",
        "outputId": "bcf643c6-c2e7-4894-909b-9fa5c95af806"
      },
      "source": [
        "user_recs(10)"
      ],
      "execution_count": null,
      "outputs": [
        {
          "output_type": "execute_result",
          "data": {
            "text/plain": [
              "array([ 1.,  6.,  8., 12., 15., 19., 21., 22., 23., 28.])"
            ]
          },
          "metadata": {
            "tags": []
          },
          "execution_count": 27
        }
      ]
    },
    {
      "cell_type": "code",
      "metadata": {
        "id": "4sPJqFPdJjta",
        "outputId": "18564f3a-20ac-45e1-d59e-eabb56c2844a"
      },
      "source": [
        "user_recs(29)"
      ],
      "execution_count": null,
      "outputs": [
        {
          "output_type": "execute_result",
          "data": {
            "text/plain": [
              "array([ 4.,  7.,  9., 10., 11., 14., 16., 18., 25., 26.])"
            ]
          },
          "metadata": {
            "tags": []
          },
          "execution_count": 28
        }
      ]
    },
    {
      "cell_type": "markdown",
      "metadata": {
        "id": "N2ejzA2CJjtb"
      },
      "source": [
        "As we can see, the function successfully recommends the top 10 classes the user is most likely to give a higher rating to."
      ]
    },
    {
      "cell_type": "markdown",
      "metadata": {
        "id": "chDggnktJjtc"
      },
      "source": [
        "## Conclusion"
      ]
    },
    {
      "cell_type": "markdown",
      "metadata": {
        "id": "YGdlkfViJjtd"
      },
      "source": [
        "In this article, we looked into collaborative-filtering based recommendation systems:\n",
        "1.\tWe saw the importance of creating a user-item matrix and using the dot product of ratings as a means to calculate the similarity between different users\n",
        "2.\tWe built a recommendation system using the information we had regarding the ratings users give to various classes they had attended\n",
        "3.\tWe calculated the similar users and recommended the highest-rated classes not yet attended by the current user.\n"
      ]
    },
    {
      "cell_type": "code",
      "metadata": {
        "id": "mUPigJouJjtd"
      },
      "source": [
        ""
      ],
      "execution_count": null,
      "outputs": []
    }
  ]
}